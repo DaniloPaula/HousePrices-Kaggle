{
 "cells": [
  {
   "cell_type": "markdown",
   "id": "4bd783a1",
   "metadata": {
    "papermill": {
     "duration": 0.028219,
     "end_time": "2021-08-08T00:01:03.518185",
     "exception": false,
     "start_time": "2021-08-08T00:01:03.489966",
     "status": "completed"
    },
    "tags": []
   },
   "source": [
    "## LightGBM GPU Installation"
   ]
  },
  {
   "cell_type": "code",
   "execution_count": 1,
   "id": "765d9962",
   "metadata": {
    "execution": {
     "iopub.execute_input": "2021-08-08T00:01:03.591558Z",
     "iopub.status.busy": "2021-08-08T00:01:03.583303Z",
     "iopub.status.idle": "2021-08-08T00:01:28.690480Z",
     "shell.execute_reply": "2021-08-08T00:01:28.691804Z",
     "shell.execute_reply.started": "2021-08-07T22:31:29.583392Z"
    },
    "papermill": {
     "duration": 25.146809,
     "end_time": "2021-08-08T00:01:28.692377",
     "exception": false,
     "start_time": "2021-08-08T00:01:03.545568",
     "status": "completed"
    },
    "tags": []
   },
   "outputs": [
    {
     "name": "stdout",
     "output_type": "stream",
     "text": [
      "rm: cannot remove '/opt/conda/lib/python3.6/site-packages/lightgbm': No such file or directory\r\n",
      "Cloning into 'LightGBM'...\r\n",
      "remote: Enumerating objects: 22826, done.\u001b[K\r\n",
      "remote: Counting objects: 100% (507/507), done.\u001b[K\r\n",
      "remote: Compressing objects: 100% (287/287), done.\u001b[K\r\n",
      "remote: Total 22826 (delta 283), reused 379 (delta 203), pack-reused 22319\u001b[K\r\n",
      "Receiving objects: 100% (22826/22826), 17.76 MiB | 19.16 MiB/s, done.\r\n",
      "Resolving deltas: 100% (16680/16680), done.\r\n",
      "Submodule 'include/boost/compute' (https://github.com/boostorg/compute) registered for path 'external_libs/compute'\r\n",
      "Submodule 'eigen' (https://gitlab.com/libeigen/eigen.git) registered for path 'external_libs/eigen'\r\n",
      "Submodule 'external_libs/fast_double_parser' (https://github.com/lemire/fast_double_parser.git) registered for path 'external_libs/fast_double_parser'\r\n",
      "Submodule 'external_libs/fmt' (https://github.com/fmtlib/fmt.git) registered for path 'external_libs/fmt'\r\n",
      "Cloning into '/kaggle/working/LightGBM/external_libs/compute'...\r\n",
      "remote: Enumerating objects: 21731, done.        \r\n",
      "remote: Counting objects: 100% (3/3), done.        \r\n",
      "remote: Compressing objects: 100% (3/3), done.        \r\n",
      "remote: Total 21731 (delta 0), reused 1 (delta 0), pack-reused 21728        \r\n",
      "Receiving objects: 100% (21731/21731), 8.51 MiB | 15.24 MiB/s, done.\r\n",
      "Resolving deltas: 100% (17566/17566), done.\r\n",
      "Cloning into '/kaggle/working/LightGBM/external_libs/eigen'...\r\n",
      "remote: Enumerating objects: 110816, done.        \r\n",
      "remote: Counting objects: 100% (448/448), done.        \r\n",
      "remote: Compressing objects: 100% (352/352), done.        \r\n",
      "remote: Total 110816 (delta 190), reused 184 (delta 87), pack-reused 110368        \r\n",
      "Receiving objects: 100% (110816/110816), 102.13 MiB | 25.27 MiB/s, done.\r\n",
      "Resolving deltas: 100% (90978/90978), done.\r\n",
      "Cloning into '/kaggle/working/LightGBM/external_libs/fast_double_parser'...\r\n",
      "remote: Enumerating objects: 689, done.        \r\n",
      "remote: Counting objects: 100% (189/189), done.        \r\n",
      "remote: Compressing objects: 100% (121/121), done.        \r\n",
      "remote: Total 689 (delta 93), reused 99 (delta 41), pack-reused 500        \r\n",
      "Receiving objects: 100% (689/689), 802.19 KiB | 2.98 MiB/s, done.\r\n",
      "Resolving deltas: 100% (347/347), done.\r\n",
      "Cloning into '/kaggle/working/LightGBM/external_libs/fmt'...\r\n",
      "remote: Enumerating objects: 26861, done.        \r\n",
      "remote: Counting objects: 100% (569/569), done.        \r\n",
      "remote: Compressing objects: 100% (201/201), done.        \r\n",
      "remote: Total 26861 (delta 332), reused 503 (delta 306), pack-reused 26292        \r\n",
      "Receiving objects: 100% (26861/26861), 13.28 MiB | 18.56 MiB/s, done.\r\n",
      "Resolving deltas: 100% (18133/18133), done.\r\n",
      "Submodule path 'external_libs/compute': checked out '36c89134d4013b2e5e45bc55656a18bd6141995a'\r\n",
      "Submodule path 'external_libs/eigen': checked out '8ba1b0f41a7950dc3e1d4ed75859e36c73311235'\r\n",
      "Submodule path 'external_libs/fast_double_parser': checked out 'ace60646c02dc54c57f19d644e49a61e7e7758ec'\r\n",
      "Submodule 'benchmark/dependencies/abseil-cpp' (https://github.com/abseil/abseil-cpp.git) registered for path 'external_libs/fast_double_parser/benchmarks/dependencies/abseil-cpp'\r\n",
      "Submodule 'benchmark/dependencies/double-conversion' (https://github.com/google/double-conversion.git) registered for path 'external_libs/fast_double_parser/benchmarks/dependencies/double-conversion'\r\n",
      "Cloning into '/kaggle/working/LightGBM/external_libs/fast_double_parser/benchmarks/dependencies/abseil-cpp'...\r\n",
      "remote: Enumerating objects: 14944, done.        \r\n",
      "remote: Counting objects: 100% (879/879), done.        \r\n",
      "remote: Compressing objects: 100% (524/524), done.        \r\n",
      "remote: Total 14944 (delta 548), reused 633 (delta 355), pack-reused 14065        \r\n",
      "Receiving objects: 100% (14944/14944), 10.15 MiB | 15.54 MiB/s, done.\r\n",
      "Resolving deltas: 100% (11289/11289), done.\r\n",
      "Cloning into '/kaggle/working/LightGBM/external_libs/fast_double_parser/benchmarks/dependencies/double-conversion'...\r\n",
      "remote: Enumerating objects: 1235, done.        \r\n",
      "remote: Counting objects: 100% (79/79), done.        \r\n",
      "remote: Compressing objects: 100% (60/60), done.        \r\n",
      "remote: Total 1235 (delta 45), reused 39 (delta 19), pack-reused 1156        \r\n",
      "Receiving objects: 100% (1235/1235), 7.09 MiB | 11.51 MiB/s, done.\r\n",
      "Resolving deltas: 100% (817/817), done.\r\n",
      "Submodule path 'external_libs/fast_double_parser/benchmarks/dependencies/abseil-cpp': checked out 'd936052d32a5b7ca08b0199a6724724aea432309'\r\n",
      "Submodule path 'external_libs/fast_double_parser/benchmarks/dependencies/double-conversion': checked out 'f4cb2384efa55dee0e6652f8674b05763441ab09'\r\n",
      "Submodule path 'external_libs/fmt': checked out 'cc09f1a6798c085c325569ef466bcdcffdc266d4'\r\n"
     ]
    }
   ],
   "source": [
    "!rm -r /opt/conda/lib/python3.6/site-packages/lightgbm\n",
    "!git clone --recursive https://github.com/Microsoft/LightGBM"
   ]
  },
  {
   "cell_type": "code",
   "execution_count": 2,
   "id": "93daa015",
   "metadata": {
    "execution": {
     "iopub.execute_input": "2021-08-08T00:01:28.944550Z",
     "iopub.status.busy": "2021-08-08T00:01:28.943785Z",
     "iopub.status.idle": "2021-08-08T00:01:31.292489Z",
     "shell.execute_reply": "2021-08-08T00:01:31.293006Z",
     "shell.execute_reply.started": "2021-08-07T22:32:06.157661Z"
    },
    "papermill": {
     "duration": 2.463372,
     "end_time": "2021-08-08T00:01:31.293190",
     "exception": false,
     "start_time": "2021-08-08T00:01:28.829818",
     "status": "completed"
    },
    "tags": []
   },
   "outputs": [],
   "source": [
    "!apt-get install -y -qq libboost-all-dev"
   ]
  },
  {
   "cell_type": "markdown",
   "id": "2e5c1333",
   "metadata": {
    "papermill": {
     "duration": 0.102457,
     "end_time": "2021-08-08T00:01:31.500374",
     "exception": false,
     "start_time": "2021-08-08T00:01:31.397917",
     "status": "completed"
    },
    "tags": []
   },
   "source": [
    "## Build and re-install LightGBM with GPU support"
   ]
  },
  {
   "cell_type": "code",
   "execution_count": 3,
   "id": "aeaa1e62",
   "metadata": {
    "execution": {
     "iopub.execute_input": "2021-08-08T00:01:31.716212Z",
     "iopub.status.busy": "2021-08-08T00:01:31.712098Z",
     "iopub.status.idle": "2021-08-08T00:06:15.653344Z",
     "shell.execute_reply": "2021-08-08T00:06:15.652874Z",
     "shell.execute_reply.started": "2021-08-07T22:32:14.174398Z"
    },
    "papermill": {
     "duration": 284.04965,
     "end_time": "2021-08-08T00:06:15.653454",
     "exception": false,
     "start_time": "2021-08-08T00:01:31.603804",
     "status": "completed"
    },
    "tags": []
   },
   "outputs": [
    {
     "name": "stdout",
     "output_type": "stream",
     "text": [
      "-- The C compiler identification is GNU 7.5.0\n",
      "-- The CXX compiler identification is GNU 7.5.0\n",
      "-- Check for working C compiler: /usr/bin/cc\n",
      "-- Check for working C compiler: /usr/bin/cc -- works\n",
      "-- Detecting C compiler ABI info\n",
      "-- Detecting C compiler ABI info - done\n",
      "-- Detecting C compile features\n",
      "-- Detecting C compile features - done\n",
      "-- Check for working CXX compiler: /usr/bin/c++\n",
      "-- Check for working CXX compiler: /usr/bin/c++ -- works\n",
      "-- Detecting CXX compiler ABI info\n",
      "-- Detecting CXX compiler ABI info - done\n",
      "-- Detecting CXX compile features\n",
      "-- Detecting CXX compile features - done\n",
      "-- Found OpenMP_C: -fopenmp (found version \"4.5\") \n",
      "-- Found OpenMP_CXX: -fopenmp (found version \"4.5\") \n",
      "-- Found OpenMP: TRUE (found version \"4.5\")  \n",
      "-- Looking for CL_VERSION_2_2\n",
      "-- Looking for CL_VERSION_2_2 - not found\n",
      "-- Looking for CL_VERSION_2_1\n",
      "-- Looking for CL_VERSION_2_1 - not found\n",
      "-- Looking for CL_VERSION_2_0\n",
      "-- Looking for CL_VERSION_2_0 - not found\n",
      "-- Looking for CL_VERSION_1_2\n",
      "-- Looking for CL_VERSION_1_2 - found\n",
      "-- Found OpenCL: /usr/local/cuda/lib64/libOpenCL.so (found version \"1.2\") \n",
      "-- OpenCL include directory: /usr/local/cuda/include\n",
      "-- Boost 1.56.0 found.\n",
      "-- Found Boost components:\n",
      "   filesystem;system\n",
      "-- Performing Test MM_PREFETCH\n",
      "-- Performing Test MM_PREFETCH - Success\n",
      "-- Using _mm_prefetch\n",
      "-- Performing Test MM_MALLOC\n",
      "-- Performing Test MM_MALLOC - Success\n",
      "-- Using _mm_malloc\n",
      "-- Configuring done\n",
      "-- Generating done\n",
      "-- Build files have been written to: /kaggle/working/LightGBM/build\n",
      "Scanning dependencies of target _lightgbm\n",
      "Scanning dependencies of target lightgbm\n",
      "[  1%] Building CXX object CMakeFiles/_lightgbm.dir/src/boosting/boosting.cpp.o\n",
      "[  2%] Building CXX object CMakeFiles/lightgbm.dir/src/main.cpp.o\n",
      "[  4%] Building CXX object CMakeFiles/lightgbm.dir/src/application/application.cpp.o\n",
      "[  5%] Building CXX object CMakeFiles/_lightgbm.dir/src/boosting/gbdt.cpp.o\n",
      "[  7%] Building CXX object CMakeFiles/lightgbm.dir/src/boosting/boosting.cpp.o\n",
      "[  8%] Building CXX object CMakeFiles/_lightgbm.dir/src/boosting/gbdt_model_text.cpp.o\n",
      "[ 10%] Building CXX object CMakeFiles/lightgbm.dir/src/boosting/gbdt.cpp.o\n",
      "[ 11%] Building CXX object CMakeFiles/_lightgbm.dir/src/boosting/gbdt_prediction.cpp.o\n",
      "[ 13%] Building CXX object CMakeFiles/lightgbm.dir/src/boosting/gbdt_model_text.cpp.o\n",
      "[ 14%] Building CXX object CMakeFiles/_lightgbm.dir/src/boosting/prediction_early_stop.cpp.o\n",
      "[ 15%] Building CXX object CMakeFiles/_lightgbm.dir/src/io/bin.cpp.o\n",
      "[ 17%] Building CXX object CMakeFiles/lightgbm.dir/src/boosting/gbdt_prediction.cpp.o\n",
      "[ 18%] Building CXX object CMakeFiles/lightgbm.dir/src/boosting/prediction_early_stop.cpp.o\n",
      "[ 20%] Building CXX object CMakeFiles/lightgbm.dir/src/io/bin.cpp.o\n",
      "[ 21%] Building CXX object CMakeFiles/_lightgbm.dir/src/io/config.cpp.o\n",
      "[ 23%] Building CXX object CMakeFiles/_lightgbm.dir/src/io/config_auto.cpp.o\n",
      "[ 24%] Building CXX object CMakeFiles/lightgbm.dir/src/io/config.cpp.o\n",
      "[ 26%] Building CXX object CMakeFiles/_lightgbm.dir/src/io/dataset.cpp.o\n",
      "[ 27%] Building CXX object CMakeFiles/lightgbm.dir/src/io/config_auto.cpp.o\n",
      "[ 28%] Building CXX object CMakeFiles/lightgbm.dir/src/io/dataset.cpp.o\n",
      "[ 30%] Building CXX object CMakeFiles/_lightgbm.dir/src/io/dataset_loader.cpp.o\n",
      "[ 31%] Building CXX object CMakeFiles/_lightgbm.dir/src/io/file_io.cpp.o\n",
      "[ 33%] Building CXX object CMakeFiles/lightgbm.dir/src/io/dataset_loader.cpp.o\n",
      "[ 34%] Building CXX object CMakeFiles/_lightgbm.dir/src/io/json11.cpp.o\n",
      "[ 36%] Building CXX object CMakeFiles/_lightgbm.dir/src/io/metadata.cpp.o\n",
      "[ 37%] Building CXX object CMakeFiles/lightgbm.dir/src/io/file_io.cpp.o\n",
      "[ 39%] Building CXX object CMakeFiles/_lightgbm.dir/src/io/parser.cpp.o\n",
      "[ 40%] Building CXX object CMakeFiles/lightgbm.dir/src/io/json11.cpp.o\n",
      "[ 42%] Building CXX object CMakeFiles/_lightgbm.dir/src/io/train_share_states.cpp.o\n",
      "[ 43%] Building CXX object CMakeFiles/lightgbm.dir/src/io/metadata.cpp.o\n",
      "[ 44%] Building CXX object CMakeFiles/_lightgbm.dir/src/io/tree.cpp.o\n",
      "[ 46%] Building CXX object CMakeFiles/lightgbm.dir/src/io/parser.cpp.o\n",
      "[ 47%] Building CXX object CMakeFiles/lightgbm.dir/src/io/train_share_states.cpp.o\n",
      "[ 49%] Building CXX object CMakeFiles/lightgbm.dir/src/io/tree.cpp.o\n",
      "[ 50%] Building CXX object CMakeFiles/_lightgbm.dir/src/metric/dcg_calculator.cpp.o\n",
      "[ 52%] Building CXX object CMakeFiles/_lightgbm.dir/src/metric/metric.cpp.o\n",
      "[ 53%] Building CXX object CMakeFiles/lightgbm.dir/src/metric/dcg_calculator.cpp.o\n",
      "[ 55%] Building CXX object CMakeFiles/lightgbm.dir/src/metric/metric.cpp.o\n",
      "[ 56%] Building CXX object CMakeFiles/_lightgbm.dir/src/objective/objective_function.cpp.o\n",
      "[ 57%] Building CXX object CMakeFiles/lightgbm.dir/src/objective/objective_function.cpp.o\n",
      "[ 59%] Building CXX object CMakeFiles/_lightgbm.dir/src/network/ifaddrs_patch.cpp.o\n",
      "[ 60%] Building CXX object CMakeFiles/_lightgbm.dir/src/network/linker_topo.cpp.o\n",
      "[ 62%] Building CXX object CMakeFiles/_lightgbm.dir/src/network/linkers_mpi.cpp.o\n",
      "[ 63%] Building CXX object CMakeFiles/_lightgbm.dir/src/network/linkers_socket.cpp.o\n",
      "[ 65%] Building CXX object CMakeFiles/_lightgbm.dir/src/network/network.cpp.o\n",
      "[ 66%] Building CXX object CMakeFiles/lightgbm.dir/src/network/ifaddrs_patch.cpp.o\n",
      "[ 68%] Building CXX object CMakeFiles/lightgbm.dir/src/network/linker_topo.cpp.o\n",
      "[ 69%] Building CXX object CMakeFiles/_lightgbm.dir/src/treelearner/cuda_tree_learner.cpp.o\n",
      "[ 71%] Building CXX object CMakeFiles/_lightgbm.dir/src/treelearner/data_parallel_tree_learner.cpp.o\n",
      "[ 72%] Building CXX object CMakeFiles/lightgbm.dir/src/network/linkers_mpi.cpp.o\n",
      "[ 73%] Building CXX object CMakeFiles/lightgbm.dir/src/network/linkers_socket.cpp.o\n",
      "[ 75%] Building CXX object CMakeFiles/lightgbm.dir/src/network/network.cpp.o\n",
      "[ 76%] Building CXX object CMakeFiles/lightgbm.dir/src/treelearner/cuda_tree_learner.cpp.o\n",
      "[ 78%] Building CXX object CMakeFiles/lightgbm.dir/src/treelearner/data_parallel_tree_learner.cpp.o\n",
      "[ 79%] Building CXX object CMakeFiles/_lightgbm.dir/src/treelearner/feature_parallel_tree_learner.cpp.o\n",
      "[ 81%] Building CXX object CMakeFiles/lightgbm.dir/src/treelearner/feature_parallel_tree_learner.cpp.o\n",
      "[ 82%] Building CXX object CMakeFiles/_lightgbm.dir/src/treelearner/gpu_tree_learner.cpp.o\n",
      "[ 84%] Building CXX object CMakeFiles/lightgbm.dir/src/treelearner/gpu_tree_learner.cpp.o\n",
      "[ 85%] Building CXX object CMakeFiles/_lightgbm.dir/src/treelearner/linear_tree_learner.cpp.o\n",
      "[ 86%] Building CXX object CMakeFiles/lightgbm.dir/src/treelearner/linear_tree_learner.cpp.o\n",
      "[ 88%] Building CXX object CMakeFiles/_lightgbm.dir/src/treelearner/serial_tree_learner.cpp.o\n",
      "[ 89%] Building CXX object CMakeFiles/lightgbm.dir/src/treelearner/serial_tree_learner.cpp.o\n",
      "[ 91%] Building CXX object CMakeFiles/_lightgbm.dir/src/treelearner/tree_learner.cpp.o\n",
      "[ 92%] Building CXX object CMakeFiles/lightgbm.dir/src/treelearner/tree_learner.cpp.o\n",
      "[ 94%] Building CXX object CMakeFiles/_lightgbm.dir/src/treelearner/voting_parallel_tree_learner.cpp.o\n",
      "[ 95%] Building CXX object CMakeFiles/lightgbm.dir/src/treelearner/voting_parallel_tree_learner.cpp.o\n",
      "[ 97%] Building CXX object CMakeFiles/_lightgbm.dir/src/c_api.cpp.o\n",
      "[ 98%] Linking CXX executable ../lightgbm\n",
      "[ 98%] Built target lightgbm\n",
      "[100%] Linking CXX shared library ../lib_lightgbm.so\n",
      "[100%] Built target _lightgbm\n"
     ]
    },
    {
     "name": "stderr",
     "output_type": "stream",
     "text": [
      "rm: cannot remove 'build': No such file or directory\n",
      "cmake: /opt/conda/lib/libcurl.so.4: no version information available (required by cmake)\n",
      "/usr/bin/cmake: /opt/conda/lib/libcurl.so.4: no version information available (required by /usr/bin/cmake)\n",
      "/usr/bin/cmake: /opt/conda/lib/libcurl.so.4: no version information available (required by /usr/bin/cmake)\n",
      "/usr/bin/cmake: /opt/conda/lib/libcurl.so.4: no version information available (required by /usr/bin/cmake)\n",
      "/usr/bin/cmake: /opt/conda/lib/libcurl.so.4: no version information available (required by /usr/bin/cmake)\n",
      "/usr/bin/cmake: /opt/conda/lib/libcurl.so.4: no version information available (required by /usr/bin/cmake)\n",
      "/usr/bin/cmake: /opt/conda/lib/libcurl.so.4: no version information available (required by /usr/bin/cmake)\n",
      "/usr/bin/cmake: /opt/conda/lib/libcurl.so.4: no version information available (required by /usr/bin/cmake)\n",
      "/usr/bin/cmake: /opt/conda/lib/libcurl.so.4: no version information available (required by /usr/bin/cmake)\n",
      "/usr/bin/cmake: /opt/conda/lib/libcurl.so.4: no version information available (required by /usr/bin/cmake)\n",
      "/usr/bin/cmake: /opt/conda/lib/libcurl.so.4: no version information available (required by /usr/bin/cmake)\n",
      "/usr/bin/cmake: /opt/conda/lib/libcurl.so.4: no version information available (required by /usr/bin/cmake)\n",
      "/usr/bin/cmake: /opt/conda/lib/libcurl.so.4: no version information available (required by /usr/bin/cmake)\n",
      "/usr/bin/cmake: /opt/conda/lib/libcurl.so.4: no version information available (required by /usr/bin/cmake)\n",
      "/usr/bin/cmake: /opt/conda/lib/libcurl.so.4: no version information available (required by /usr/bin/cmake)\n",
      "/usr/bin/cmake: /opt/conda/lib/libcurl.so.4: no version information available (required by /usr/bin/cmake)\n",
      "/usr/bin/cmake: /opt/conda/lib/libcurl.so.4: no version information available (required by /usr/bin/cmake)\n",
      "/usr/bin/cmake: /opt/conda/lib/libcurl.so.4: no version information available (required by /usr/bin/cmake)\n",
      "/usr/bin/cmake: /opt/conda/lib/libcurl.so.4: no version information available (required by /usr/bin/cmake)\n",
      "/usr/bin/cmake: /opt/conda/lib/libcurl.so.4: no version information available (required by /usr/bin/cmake)\n",
      "/usr/bin/cmake: /opt/conda/lib/libcurl.so.4: no version information available (required by /usr/bin/cmake)\n",
      "/usr/bin/cmake: /opt/conda/lib/libcurl.so.4: no version information available (required by /usr/bin/cmake)\n",
      "/usr/bin/cmake: /opt/conda/lib/libcurl.so.4: no version information available (required by /usr/bin/cmake)\n",
      "/usr/bin/cmake: /opt/conda/lib/libcurl.so.4: no version information available (required by /usr/bin/cmake)\n",
      "/usr/bin/cmake: /opt/conda/lib/libcurl.so.4: no version information available (required by /usr/bin/cmake)\n",
      "/usr/bin/cmake: /opt/conda/lib/libcurl.so.4: no version information available (required by /usr/bin/cmake)\n",
      "/usr/bin/cmake: /opt/conda/lib/libcurl.so.4: no version information available (required by /usr/bin/cmake)\n",
      "/usr/bin/cmake: /opt/conda/lib/libcurl.so.4: no version information available (required by /usr/bin/cmake)\n",
      "/usr/bin/cmake: /opt/conda/lib/libcurl.so.4: no version information available (required by /usr/bin/cmake)\n",
      "/usr/bin/cmake: /opt/conda/lib/libcurl.so.4: no version information available (required by /usr/bin/cmake)\n",
      "/usr/bin/cmake: /opt/conda/lib/libcurl.so.4: no version information available (required by /usr/bin/cmake)\n",
      "/usr/bin/cmake: /opt/conda/lib/libcurl.so.4: no version information available (required by /usr/bin/cmake)\n",
      "/usr/bin/cmake: /opt/conda/lib/libcurl.so.4: no version information available (required by /usr/bin/cmake)\n",
      "/usr/bin/cmake: /opt/conda/lib/libcurl.so.4: no version information available (required by /usr/bin/cmake)\n",
      "/usr/bin/cmake: /opt/conda/lib/libcurl.so.4: no version information available (required by /usr/bin/cmake)\n",
      "/usr/bin/cmake: /opt/conda/lib/libcurl.so.4: no version information available (required by /usr/bin/cmake)\n",
      "/usr/bin/cmake: /opt/conda/lib/libcurl.so.4: no version information available (required by /usr/bin/cmake)\n",
      "/usr/bin/cmake: /opt/conda/lib/libcurl.so.4: no version information available (required by /usr/bin/cmake)\n",
      "/usr/bin/cmake: /opt/conda/lib/libcurl.so.4: no version information available (required by /usr/bin/cmake)\n",
      "/usr/bin/cmake: /opt/conda/lib/libcurl.so.4: no version information available (required by /usr/bin/cmake)\n",
      "/usr/bin/cmake: /opt/conda/lib/libcurl.so.4: no version information available (required by /usr/bin/cmake)\n",
      "/usr/bin/cmake: /opt/conda/lib/libcurl.so.4: no version information available (required by /usr/bin/cmake)\n",
      "/usr/bin/cmake: /opt/conda/lib/libcurl.so.4: no version information available (required by /usr/bin/cmake)\n",
      "/usr/bin/cmake: /opt/conda/lib/libcurl.so.4: no version information available (required by /usr/bin/cmake)\n",
      "/usr/bin/cmake: /opt/conda/lib/libcurl.so.4: no version information available (required by /usr/bin/cmake)\n",
      "/usr/bin/cmake: /opt/conda/lib/libcurl.so.4: no version information available (required by /usr/bin/cmake)\n",
      "/usr/bin/cmake: /opt/conda/lib/libcurl.so.4: no version information available (required by /usr/bin/cmake)\n",
      "/usr/bin/cmake: /opt/conda/lib/libcurl.so.4: no version information available (required by /usr/bin/cmake)\n",
      "/usr/bin/cmake: /opt/conda/lib/libcurl.so.4: no version information available (required by /usr/bin/cmake)\n",
      "/usr/bin/cmake: /opt/conda/lib/libcurl.so.4: no version information available (required by /usr/bin/cmake)\n",
      "/usr/bin/cmake: /opt/conda/lib/libcurl.so.4: no version information available (required by /usr/bin/cmake)\n",
      "/usr/bin/cmake: /opt/conda/lib/libcurl.so.4: no version information available (required by /usr/bin/cmake)\n",
      "/usr/bin/cmake: /opt/conda/lib/libcurl.so.4: no version information available (required by /usr/bin/cmake)\n",
      "/usr/bin/cmake: /opt/conda/lib/libcurl.so.4: no version information available (required by /usr/bin/cmake)\n",
      "/usr/bin/cmake: /opt/conda/lib/libcurl.so.4: no version information available (required by /usr/bin/cmake)\n",
      "/usr/bin/cmake: /opt/conda/lib/libcurl.so.4: no version information available (required by /usr/bin/cmake)\n",
      "/usr/bin/cmake: /opt/conda/lib/libcurl.so.4: no version information available (required by /usr/bin/cmake)\n",
      "In file included from /opt/conda/include/boost/property_tree/json_parser/detail/parser.hpp:7:0,\n",
      "                 from /opt/conda/include/boost/property_tree/json_parser/detail/read.hpp:13,\n",
      "                 from /opt/conda/include/boost/property_tree/json_parser.hpp:16,\n",
      "                 from /kaggle/working/LightGBM/external_libs/compute/include/boost/compute/detail/parameter_cache.hpp:31,\n",
      "                 from /kaggle/working/LightGBM/external_libs/compute/include/boost/compute/algorithm/detail/copy_on_device.hpp:23,\n",
      "                 from /kaggle/working/LightGBM/external_libs/compute/include/boost/compute/algorithm/copy.hpp:26,\n",
      "                 from /kaggle/working/LightGBM/external_libs/compute/include/boost/compute/container/vector.hpp:32,\n",
      "                 from /kaggle/working/LightGBM/src/treelearner/gpu_tree_learner.h:34,\n",
      "                 from /kaggle/working/LightGBM/src/treelearner/parallel_tree_learner.h:16,\n",
      "                 from /kaggle/working/LightGBM/src/treelearner/data_parallel_tree_learner.cpp:9:\n",
      "/opt/conda/include/boost/bind.hpp:41:1: note: #pragma message: The practice of declaring the Bind placeholders (_1, _2, ...) in the global namespace is deprecated. Please use <boost/bind/bind.hpp> + using namespace boost::placeholders, or define BOOST_BIND_GLOBAL_PLACEHOLDERS to retain the current behavior.\n",
      " )\n",
      " ^\n",
      "/usr/bin/cmake: /opt/conda/lib/libcurl.so.4: no version information available (required by /usr/bin/cmake)\n",
      "/usr/bin/cmake: /opt/conda/lib/libcurl.so.4: no version information available (required by /usr/bin/cmake)\n",
      "/usr/bin/cmake: /opt/conda/lib/libcurl.so.4: no version information available (required by /usr/bin/cmake)\n",
      "In file included from /opt/conda/include/boost/property_tree/json_parser/detail/parser.hpp:7:0,\n",
      "                 from /opt/conda/include/boost/property_tree/json_parser/detail/read.hpp:13,\n",
      "                 from /opt/conda/include/boost/property_tree/json_parser.hpp:16,\n",
      "                 from /kaggle/working/LightGBM/external_libs/compute/include/boost/compute/detail/parameter_cache.hpp:31,\n",
      "                 from /kaggle/working/LightGBM/external_libs/compute/include/boost/compute/algorithm/detail/copy_on_device.hpp:23,\n",
      "                 from /kaggle/working/LightGBM/external_libs/compute/include/boost/compute/algorithm/copy.hpp:26,\n",
      "                 from /kaggle/working/LightGBM/external_libs/compute/include/boost/compute/container/vector.hpp:32,\n",
      "                 from /kaggle/working/LightGBM/src/treelearner/gpu_tree_learner.h:34,\n",
      "                 from /kaggle/working/LightGBM/src/treelearner/parallel_tree_learner.h:16,\n",
      "                 from /kaggle/working/LightGBM/src/treelearner/data_parallel_tree_learner.cpp:9:\n",
      "/opt/conda/include/boost/bind.hpp:41:1: note: #pragma message: The practice of declaring the Bind placeholders (_1, _2, ...) in the global namespace is deprecated. Please use <boost/bind/bind.hpp> + using namespace boost::placeholders, or define BOOST_BIND_GLOBAL_PLACEHOLDERS to retain the current behavior.\n",
      " )\n",
      " ^\n",
      "In file included from /opt/conda/include/boost/property_tree/json_parser/detail/parser.hpp:7:0,\n",
      "                 from /opt/conda/include/boost/property_tree/json_parser/detail/read.hpp:13,\n",
      "                 from /opt/conda/include/boost/property_tree/json_parser.hpp:16,\n",
      "                 from /kaggle/working/LightGBM/external_libs/compute/include/boost/compute/detail/parameter_cache.hpp:31,\n",
      "                 from /kaggle/working/LightGBM/external_libs/compute/include/boost/compute/algorithm/detail/copy_on_device.hpp:23,\n",
      "                 from /kaggle/working/LightGBM/external_libs/compute/include/boost/compute/algorithm/copy.hpp:26,\n",
      "                 from /kaggle/working/LightGBM/external_libs/compute/include/boost/compute/container/vector.hpp:32,\n",
      "                 from /kaggle/working/LightGBM/src/treelearner/gpu_tree_learner.h:34,\n",
      "                 from /kaggle/working/LightGBM/src/treelearner/parallel_tree_learner.h:16,\n",
      "                 from /kaggle/working/LightGBM/src/treelearner/feature_parallel_tree_learner.cpp:8:\n",
      "/opt/conda/include/boost/bind.hpp:41:1: note: #pragma message: The practice of declaring the Bind placeholders (_1, _2, ...) in the global namespace is deprecated. Please use <boost/bind/bind.hpp> + using namespace boost::placeholders, or define BOOST_BIND_GLOBAL_PLACEHOLDERS to retain the current behavior.\n",
      " )\n",
      " ^\n",
      "/usr/bin/cmake: /opt/conda/lib/libcurl.so.4: no version information available (required by /usr/bin/cmake)\n",
      "/usr/bin/cmake: /opt/conda/lib/libcurl.so.4: no version information available (required by /usr/bin/cmake)\n",
      "In file included from /opt/conda/include/boost/property_tree/json_parser/detail/parser.hpp:7:0,\n",
      "                 from /opt/conda/include/boost/property_tree/json_parser/detail/read.hpp:13,\n",
      "                 from /opt/conda/include/boost/property_tree/json_parser.hpp:16,\n",
      "                 from /kaggle/working/LightGBM/external_libs/compute/include/boost/compute/detail/parameter_cache.hpp:31,\n",
      "                 from /kaggle/working/LightGBM/external_libs/compute/include/boost/compute/algorithm/detail/copy_on_device.hpp:23,\n",
      "                 from /kaggle/working/LightGBM/external_libs/compute/include/boost/compute/algorithm/copy.hpp:26,\n",
      "                 from /kaggle/working/LightGBM/external_libs/compute/include/boost/compute/container/vector.hpp:32,\n",
      "                 from /kaggle/working/LightGBM/src/treelearner/gpu_tree_learner.h:34,\n",
      "                 from /kaggle/working/LightGBM/src/treelearner/parallel_tree_learner.h:16,\n",
      "                 from /kaggle/working/LightGBM/src/treelearner/feature_parallel_tree_learner.cpp:8:\n",
      "/opt/conda/include/boost/bind.hpp:41:1: note: #pragma message: The practice of declaring the Bind placeholders (_1, _2, ...) in the global namespace is deprecated. Please use <boost/bind/bind.hpp> + using namespace boost::placeholders, or define BOOST_BIND_GLOBAL_PLACEHOLDERS to retain the current behavior.\n",
      " )\n",
      " ^\n",
      "In file included from /opt/conda/include/boost/property_tree/json_parser/detail/parser.hpp:7:0,\n",
      "                 from /opt/conda/include/boost/property_tree/json_parser/detail/read.hpp:13,\n",
      "                 from /opt/conda/include/boost/property_tree/json_parser.hpp:16,\n",
      "                 from /kaggle/working/LightGBM/external_libs/compute/include/boost/compute/detail/parameter_cache.hpp:31,\n",
      "                 from /kaggle/working/LightGBM/external_libs/compute/include/boost/compute/algorithm/detail/copy_on_device.hpp:23,\n",
      "                 from /kaggle/working/LightGBM/external_libs/compute/include/boost/compute/algorithm/copy.hpp:26,\n",
      "                 from /kaggle/working/LightGBM/external_libs/compute/include/boost/compute/container/vector.hpp:32,\n",
      "                 from /kaggle/working/LightGBM/src/treelearner/gpu_tree_learner.h:34,\n",
      "                 from /kaggle/working/LightGBM/src/treelearner/gpu_tree_learner.cpp:7:\n",
      "/opt/conda/include/boost/bind.hpp:41:1: note: #pragma message: The practice of declaring the Bind placeholders (_1, _2, ...) in the global namespace is deprecated. Please use <boost/bind/bind.hpp> + using namespace boost::placeholders, or define BOOST_BIND_GLOBAL_PLACEHOLDERS to retain the current behavior.\n",
      " )\n",
      " ^\n",
      "/usr/bin/cmake: /opt/conda/lib/libcurl.so.4: no version information available (required by /usr/bin/cmake)\n",
      "In file included from /opt/conda/include/boost/property_tree/json_parser/detail/parser.hpp:7:0,\n",
      "                 from /opt/conda/include/boost/property_tree/json_parser/detail/read.hpp:13,\n",
      "                 from /opt/conda/include/boost/property_tree/json_parser.hpp:16,\n",
      "                 from /kaggle/working/LightGBM/external_libs/compute/include/boost/compute/detail/parameter_cache.hpp:31,\n",
      "                 from /kaggle/working/LightGBM/external_libs/compute/include/boost/compute/algorithm/detail/copy_on_device.hpp:23,\n",
      "                 from /kaggle/working/LightGBM/external_libs/compute/include/boost/compute/algorithm/copy.hpp:26,\n",
      "                 from /kaggle/working/LightGBM/external_libs/compute/include/boost/compute/container/vector.hpp:32,\n",
      "                 from /kaggle/working/LightGBM/src/treelearner/gpu_tree_learner.h:34,\n",
      "                 from /kaggle/working/LightGBM/src/treelearner/gpu_tree_learner.cpp:7:\n",
      "/opt/conda/include/boost/bind.hpp:41:1: note: #pragma message: The practice of declaring the Bind placeholders (_1, _2, ...) in the global namespace is deprecated. Please use <boost/bind/bind.hpp> + using namespace boost::placeholders, or define BOOST_BIND_GLOBAL_PLACEHOLDERS to retain the current behavior.\n",
      " )\n",
      " ^\n",
      "/usr/bin/cmake: /opt/conda/lib/libcurl.so.4: no version information available (required by /usr/bin/cmake)\n",
      "/usr/bin/cmake: /opt/conda/lib/libcurl.so.4: no version information available (required by /usr/bin/cmake)\n",
      "/usr/bin/cmake: /opt/conda/lib/libcurl.so.4: no version information available (required by /usr/bin/cmake)\n",
      "/usr/bin/cmake: /opt/conda/lib/libcurl.so.4: no version information available (required by /usr/bin/cmake)\n",
      "/usr/bin/cmake: /opt/conda/lib/libcurl.so.4: no version information available (required by /usr/bin/cmake)\n",
      "In file included from /opt/conda/include/boost/property_tree/json_parser/detail/parser.hpp:7:0,\n",
      "                 from /opt/conda/include/boost/property_tree/json_parser/detail/read.hpp:13,\n",
      "                 from /opt/conda/include/boost/property_tree/json_parser.hpp:16,\n",
      "                 from /kaggle/working/LightGBM/external_libs/compute/include/boost/compute/detail/parameter_cache.hpp:31,\n",
      "                 from /kaggle/working/LightGBM/external_libs/compute/include/boost/compute/algorithm/detail/copy_on_device.hpp:23,\n",
      "                 from /kaggle/working/LightGBM/external_libs/compute/include/boost/compute/algorithm/copy.hpp:26,\n",
      "                 from /kaggle/working/LightGBM/external_libs/compute/include/boost/compute/container/vector.hpp:32,\n",
      "                 from /kaggle/working/LightGBM/src/treelearner/gpu_tree_learner.h:34,\n",
      "                 from /kaggle/working/LightGBM/src/treelearner/tree_learner.cpp:8:\n",
      "/opt/conda/include/boost/bind.hpp:41:1: note: #pragma message: The practice of declaring the Bind placeholders (_1, _2, ...) in the global namespace is deprecated. Please use <boost/bind/bind.hpp> + using namespace boost::placeholders, or define BOOST_BIND_GLOBAL_PLACEHOLDERS to retain the current behavior.\n",
      " )\n",
      " ^\n",
      "/usr/bin/cmake: /opt/conda/lib/libcurl.so.4: no version information available (required by /usr/bin/cmake)\n",
      "/usr/bin/cmake: /opt/conda/lib/libcurl.so.4: no version information available (required by /usr/bin/cmake)\n",
      "In file included from /opt/conda/include/boost/property_tree/json_parser/detail/parser.hpp:7:0,\n",
      "                 from /opt/conda/include/boost/property_tree/json_parser/detail/read.hpp:13,\n",
      "                 from /opt/conda/include/boost/property_tree/json_parser.hpp:16,\n",
      "                 from /kaggle/working/LightGBM/external_libs/compute/include/boost/compute/detail/parameter_cache.hpp:31,\n",
      "                 from /kaggle/working/LightGBM/external_libs/compute/include/boost/compute/algorithm/detail/copy_on_device.hpp:23,\n",
      "                 from /kaggle/working/LightGBM/external_libs/compute/include/boost/compute/algorithm/copy.hpp:26,\n",
      "                 from /kaggle/working/LightGBM/external_libs/compute/include/boost/compute/container/vector.hpp:32,\n",
      "                 from /kaggle/working/LightGBM/src/treelearner/gpu_tree_learner.h:34,\n",
      "                 from /kaggle/working/LightGBM/src/treelearner/tree_learner.cpp:8:\n",
      "/opt/conda/include/boost/bind.hpp:41:1: note: #pragma message: The practice of declaring the Bind placeholders (_1, _2, ...) in the global namespace is deprecated. Please use <boost/bind/bind.hpp> + using namespace boost::placeholders, or define BOOST_BIND_GLOBAL_PLACEHOLDERS to retain the current behavior.\n",
      " )\n",
      " ^\n",
      "In file included from /opt/conda/include/boost/property_tree/json_parser/detail/parser.hpp:7:0,\n",
      "                 from /opt/conda/include/boost/property_tree/json_parser/detail/read.hpp:13,\n",
      "                 from /opt/conda/include/boost/property_tree/json_parser.hpp:16,\n",
      "                 from /kaggle/working/LightGBM/external_libs/compute/include/boost/compute/detail/parameter_cache.hpp:31,\n",
      "                 from /kaggle/working/LightGBM/external_libs/compute/include/boost/compute/algorithm/detail/copy_on_device.hpp:23,\n",
      "                 from /kaggle/working/LightGBM/external_libs/compute/include/boost/compute/algorithm/copy.hpp:26,\n",
      "                 from /kaggle/working/LightGBM/external_libs/compute/include/boost/compute/container/vector.hpp:32,\n",
      "                 from /kaggle/working/LightGBM/src/treelearner/gpu_tree_learner.h:34,\n",
      "                 from /kaggle/working/LightGBM/src/treelearner/parallel_tree_learner.h:16,\n",
      "                 from /kaggle/working/LightGBM/src/treelearner/voting_parallel_tree_learner.cpp:11:\n",
      "/opt/conda/include/boost/bind.hpp:41:1: note: #pragma message: The practice of declaring the Bind placeholders (_1, _2, ...) in the global namespace is deprecated. Please use <boost/bind/bind.hpp> + using namespace boost::placeholders, or define BOOST_BIND_GLOBAL_PLACEHOLDERS to retain the current behavior.\n",
      " )\n",
      " ^\n",
      "/usr/bin/cmake: /opt/conda/lib/libcurl.so.4: no version information available (required by /usr/bin/cmake)\n",
      "In file included from /opt/conda/include/boost/property_tree/json_parser/detail/parser.hpp:7:0,\n",
      "                 from /opt/conda/include/boost/property_tree/json_parser/detail/read.hpp:13,\n",
      "                 from /opt/conda/include/boost/property_tree/json_parser.hpp:16,\n",
      "                 from /kaggle/working/LightGBM/external_libs/compute/include/boost/compute/detail/parameter_cache.hpp:31,\n",
      "                 from /kaggle/working/LightGBM/external_libs/compute/include/boost/compute/algorithm/detail/copy_on_device.hpp:23,\n",
      "                 from /kaggle/working/LightGBM/external_libs/compute/include/boost/compute/algorithm/copy.hpp:26,\n",
      "                 from /kaggle/working/LightGBM/external_libs/compute/include/boost/compute/container/vector.hpp:32,\n",
      "                 from /kaggle/working/LightGBM/src/treelearner/gpu_tree_learner.h:34,\n",
      "                 from /kaggle/working/LightGBM/src/treelearner/parallel_tree_learner.h:16,\n",
      "                 from /kaggle/working/LightGBM/src/treelearner/voting_parallel_tree_learner.cpp:11:\n",
      "/opt/conda/include/boost/bind.hpp:41:1: note: #pragma message: The practice of declaring the Bind placeholders (_1, _2, ...) in the global namespace is deprecated. Please use <boost/bind/bind.hpp> + using namespace boost::placeholders, or define BOOST_BIND_GLOBAL_PLACEHOLDERS to retain the current behavior.\n",
      " )\n",
      " ^\n",
      "/usr/bin/cmake: /opt/conda/lib/libcurl.so.4: no version information available (required by /usr/bin/cmake)\n",
      "/usr/bin/cmake: /opt/conda/lib/libcurl.so.4: no version information available (required by /usr/bin/cmake)\n",
      "/usr/bin/cmake: /opt/conda/lib/libcurl.so.4: no version information available (required by /usr/bin/cmake)\n",
      "/usr/bin/cmake: /opt/conda/lib/libcurl.so.4: no version information available (required by /usr/bin/cmake)\n",
      "/usr/bin/cmake: /opt/conda/lib/libcurl.so.4: no version information available (required by /usr/bin/cmake)\n",
      "/usr/bin/cmake: /opt/conda/lib/libcurl.so.4: no version information available (required by /usr/bin/cmake)\n",
      "/usr/bin/cmake: /opt/conda/lib/libcurl.so.4: no version information available (required by /usr/bin/cmake)\n",
      "/usr/bin/cmake: /opt/conda/lib/libcurl.so.4: no version information available (required by /usr/bin/cmake)\n"
     ]
    }
   ],
   "source": [
    "%%bash\n",
    "cd LightGBM\n",
    "rm -r build\n",
    "mkdir build\n",
    "cd build\n",
    "cmake -DUSE_GPU=1 -DOpenCL_LIBRARY=/usr/local/cuda/lib64/libOpenCL.so -DOpenCL_INCLUDE_DIR=/usr/local/cuda/include/ ..\n",
    "make -j$(nproc)"
   ]
  },
  {
   "cell_type": "code",
   "execution_count": 4,
   "id": "1b10792f",
   "metadata": {
    "execution": {
     "iopub.execute_input": "2021-08-08T00:06:15.874893Z",
     "iopub.status.busy": "2021-08-08T00:06:15.872730Z",
     "iopub.status.idle": "2021-08-08T00:06:17.428793Z",
     "shell.execute_reply": "2021-08-08T00:06:17.428339Z",
     "shell.execute_reply.started": "2021-08-07T22:37:13.431431Z"
    },
    "papermill": {
     "duration": 1.669087,
     "end_time": "2021-08-08T00:06:17.428944",
     "exception": false,
     "start_time": "2021-08-08T00:06:15.759857",
     "status": "completed"
    },
    "tags": []
   },
   "outputs": [
    {
     "name": "stdout",
     "output_type": "stream",
     "text": [
      "running install\r\n",
      "running build\r\n",
      "running build_py\r\n",
      "creating build\r\n",
      "creating build/lib\r\n",
      "creating build/lib/lightgbm\r\n",
      "copying lightgbm/libpath.py -> build/lib/lightgbm\r\n",
      "copying lightgbm/plotting.py -> build/lib/lightgbm\r\n",
      "copying lightgbm/engine.py -> build/lib/lightgbm\r\n",
      "copying lightgbm/basic.py -> build/lib/lightgbm\r\n",
      "copying lightgbm/sklearn.py -> build/lib/lightgbm\r\n",
      "copying lightgbm/callback.py -> build/lib/lightgbm\r\n",
      "copying lightgbm/compat.py -> build/lib/lightgbm\r\n",
      "copying lightgbm/__init__.py -> build/lib/lightgbm\r\n",
      "copying lightgbm/dask.py -> build/lib/lightgbm\r\n",
      "running egg_info\r\n",
      "creating lightgbm.egg-info\r\n",
      "writing lightgbm.egg-info/PKG-INFO\r\n",
      "writing dependency_links to lightgbm.egg-info/dependency_links.txt\r\n",
      "writing requirements to lightgbm.egg-info/requires.txt\r\n",
      "writing top-level names to lightgbm.egg-info/top_level.txt\r\n",
      "writing manifest file 'lightgbm.egg-info/SOURCES.txt'\r\n",
      "reading manifest template 'MANIFEST.in'\r\n",
      "no previously-included directories found matching 'build'\r\n",
      "warning: no files found matching 'LICENSE'\r\n",
      "warning: no files found matching '*.txt'\r\n",
      "warning: no files found matching '*.so' under directory 'lightgbm'\r\n",
      "warning: no files found matching 'compile/CMakeLists.txt'\r\n",
      "warning: no files found matching 'compile/cmake/IntegratedOpenCL.cmake'\r\n",
      "warning: no files found matching '*.so' under directory 'compile'\r\n",
      "warning: no files found matching '*.dll' under directory 'compile/Release'\r\n",
      "warning: no files found matching 'compile/external_libs/compute/CMakeLists.txt'\r\n",
      "warning: no files found matching '*' under directory 'compile/external_libs/compute/cmake'\r\n",
      "warning: no files found matching '*' under directory 'compile/external_libs/compute/include'\r\n",
      "warning: no files found matching '*' under directory 'compile/external_libs/compute/meta'\r\n",
      "warning: no files found matching 'compile/external_libs/eigen/CMakeLists.txt'\r\n",
      "warning: no files found matching 'compile/external_libs/eigen/Eigen/Cholesky'\r\n",
      "warning: no files found matching 'compile/external_libs/eigen/Eigen/Core'\r\n",
      "warning: no files found matching 'compile/external_libs/eigen/Eigen/Dense'\r\n",
      "warning: no files found matching 'compile/external_libs/eigen/Eigen/Eigenvalues'\r\n",
      "warning: no files found matching 'compile/external_libs/eigen/Eigen/Geometry'\r\n",
      "warning: no files found matching 'compile/external_libs/eigen/Eigen/Householder'\r\n",
      "warning: no files found matching 'compile/external_libs/eigen/Eigen/Jacobi'\r\n",
      "warning: no files found matching 'compile/external_libs/eigen/Eigen/LU'\r\n",
      "warning: no files found matching 'compile/external_libs/eigen/Eigen/QR'\r\n",
      "warning: no files found matching 'compile/external_libs/eigen/Eigen/SVD'\r\n",
      "warning: no files found matching '*' under directory 'compile/external_libs/eigen/Eigen/src/Cholesky'\r\n",
      "warning: no files found matching '*' under directory 'compile/external_libs/eigen/Eigen/src/Core'\r\n",
      "warning: no files found matching '*' under directory 'compile/external_libs/eigen/Eigen/src/Eigenvalues'\r\n",
      "warning: no files found matching '*' under directory 'compile/external_libs/eigen/Eigen/src/Geometry'\r\n",
      "warning: no files found matching '*' under directory 'compile/external_libs/eigen/Eigen/src/Householder'\r\n",
      "warning: no files found matching '*' under directory 'compile/external_libs/eigen/Eigen/src/Jacobi'\r\n",
      "warning: no files found matching '*' under directory 'compile/external_libs/eigen/Eigen/src/LU'\r\n",
      "warning: no files found matching '*' under directory 'compile/external_libs/eigen/Eigen/src/misc'\r\n",
      "warning: no files found matching '*' under directory 'compile/external_libs/eigen/Eigen/src/plugins'\r\n",
      "warning: no files found matching '*' under directory 'compile/external_libs/eigen/Eigen/src/QR'\r\n",
      "warning: no files found matching '*' under directory 'compile/external_libs/eigen/Eigen/src/SVD'\r\n",
      "warning: no files found matching 'compile/external_libs/fast_double_parser/CMakeLists.txt'\r\n",
      "warning: no files found matching 'compile/external_libs/fast_double_parser/LICENSE'\r\n",
      "warning: no files found matching 'compile/external_libs/fast_double_parser/LICENSE.BSL'\r\n",
      "warning: no files found matching '*' under directory 'compile/external_libs/fast_double_parser/include'\r\n",
      "warning: no files found matching 'compile/external_libs/fmt/CMakeLists.txt'\r\n",
      "warning: no files found matching 'compile/external_libs/fmt/LICENSE.rst'\r\n",
      "warning: no files found matching '*' under directory 'compile/external_libs/fmt/include'\r\n",
      "warning: no files found matching '*' under directory 'compile/include'\r\n",
      "warning: no files found matching '*' under directory 'compile/src'\r\n",
      "warning: no files found matching 'LightGBM.sln' under directory 'compile/windows'\r\n",
      "warning: no files found matching 'LightGBM.vcxproj' under directory 'compile/windows'\r\n",
      "warning: no files found matching '*.dll' under directory 'compile/windows/x64/DLL'\r\n",
      "warning: no previously-included files matching '*.py[co]' found anywhere in distribution\r\n",
      "warning: no previously-included files found matching 'compile/external_libs/compute/.git'\r\n",
      "writing manifest file 'lightgbm.egg-info/SOURCES.txt'\r\n",
      "copying lightgbm/VERSION.txt -> build/lib/lightgbm\r\n",
      "running install_lib\r\n",
      "copying build/lib/lightgbm/libpath.py -> /opt/conda/lib/python3.7/site-packages/lightgbm\r\n",
      "copying build/lib/lightgbm/plotting.py -> /opt/conda/lib/python3.7/site-packages/lightgbm\r\n",
      "copying build/lib/lightgbm/engine.py -> /opt/conda/lib/python3.7/site-packages/lightgbm\r\n",
      "copying build/lib/lightgbm/basic.py -> /opt/conda/lib/python3.7/site-packages/lightgbm\r\n",
      "copying build/lib/lightgbm/sklearn.py -> /opt/conda/lib/python3.7/site-packages/lightgbm\r\n",
      "copying build/lib/lightgbm/VERSION.txt -> /opt/conda/lib/python3.7/site-packages/lightgbm\r\n",
      "copying build/lib/lightgbm/callback.py -> /opt/conda/lib/python3.7/site-packages/lightgbm\r\n",
      "copying build/lib/lightgbm/compat.py -> /opt/conda/lib/python3.7/site-packages/lightgbm\r\n",
      "copying build/lib/lightgbm/__init__.py -> /opt/conda/lib/python3.7/site-packages/lightgbm\r\n",
      "copying build/lib/lightgbm/dask.py -> /opt/conda/lib/python3.7/site-packages/lightgbm\r\n",
      "copying /kaggle/working/LightGBM/lib_lightgbm.so -> /opt/conda/lib/python3.7/site-packages/lightgbm\r\n",
      "byte-compiling /opt/conda/lib/python3.7/site-packages/lightgbm/libpath.py to libpath.cpython-37.pyc\r\n",
      "byte-compiling /opt/conda/lib/python3.7/site-packages/lightgbm/plotting.py to plotting.cpython-37.pyc\r\n",
      "byte-compiling /opt/conda/lib/python3.7/site-packages/lightgbm/engine.py to engine.cpython-37.pyc\r\n",
      "byte-compiling /opt/conda/lib/python3.7/site-packages/lightgbm/basic.py to basic.cpython-37.pyc\r\n",
      "byte-compiling /opt/conda/lib/python3.7/site-packages/lightgbm/sklearn.py to sklearn.cpython-37.pyc\r\n",
      "byte-compiling /opt/conda/lib/python3.7/site-packages/lightgbm/callback.py to callback.cpython-37.pyc\r\n",
      "byte-compiling /opt/conda/lib/python3.7/site-packages/lightgbm/compat.py to compat.cpython-37.pyc\r\n",
      "byte-compiling /opt/conda/lib/python3.7/site-packages/lightgbm/__init__.py to __init__.cpython-37.pyc\r\n",
      "byte-compiling /opt/conda/lib/python3.7/site-packages/lightgbm/dask.py to dask.cpython-37.pyc\r\n",
      "running install_egg_info\r\n",
      "Copying lightgbm.egg-info to /opt/conda/lib/python3.7/site-packages/lightgbm-3.2.1.99-py3.7.egg-info\r\n",
      "running install_scripts\r\n"
     ]
    }
   ],
   "source": [
    "!cd LightGBM/python-package/;python3 setup.py install --precompile"
   ]
  },
  {
   "cell_type": "code",
   "execution_count": 5,
   "id": "d8a74966",
   "metadata": {
    "execution": {
     "iopub.execute_input": "2021-08-08T00:06:17.649207Z",
     "iopub.status.busy": "2021-08-08T00:06:17.648474Z",
     "iopub.status.idle": "2021-08-08T00:06:19.130414Z",
     "shell.execute_reply": "2021-08-08T00:06:19.129802Z",
     "shell.execute_reply.started": "2021-08-07T22:37:15.031527Z"
    },
    "papermill": {
     "duration": 1.593772,
     "end_time": "2021-08-08T00:06:19.130546",
     "exception": false,
     "start_time": "2021-08-08T00:06:17.536774",
     "status": "completed"
    },
    "tags": []
   },
   "outputs": [],
   "source": [
    "!mkdir -p /etc/OpenCL/vendors && echo \"libnvidia-opencl.so.1\" > /etc/OpenCL/vendors/nvidia.icd\n",
    "!rm -r LightGBM"
   ]
  },
  {
   "cell_type": "markdown",
   "id": "9335d6dc",
   "metadata": {
    "papermill": {
     "duration": 0.106352,
     "end_time": "2021-08-08T00:06:19.345150",
     "exception": false,
     "start_time": "2021-08-08T00:06:19.238798",
     "status": "completed"
    },
    "tags": []
   },
   "source": [
    "## Imports"
   ]
  },
  {
   "cell_type": "code",
   "execution_count": 6,
   "id": "99e4269e",
   "metadata": {
    "execution": {
     "iopub.execute_input": "2021-08-08T00:06:19.565558Z",
     "iopub.status.busy": "2021-08-08T00:06:19.564723Z",
     "iopub.status.idle": "2021-08-08T00:06:22.659666Z",
     "shell.execute_reply": "2021-08-08T00:06:22.659128Z",
     "shell.execute_reply.started": "2021-08-07T22:37:16.455066Z"
    },
    "papermill": {
     "duration": 3.208344,
     "end_time": "2021-08-08T00:06:22.659812",
     "exception": false,
     "start_time": "2021-08-08T00:06:19.451468",
     "status": "completed"
    },
    "tags": []
   },
   "outputs": [
    {
     "data": {
      "text/html": [
       "<style type='text/css'>\n",
       ".datatable table.frame { margin-bottom: 0; }\n",
       ".datatable table.frame thead { border-bottom: none; }\n",
       ".datatable table.frame tr.coltypes td {  color: #FFFFFF;  line-height: 6px;  padding: 0 0.5em;}\n",
       ".datatable .bool    { background: #DDDD99; }\n",
       ".datatable .object  { background: #565656; }\n",
       ".datatable .int     { background: #5D9E5D; }\n",
       ".datatable .float   { background: #4040CC; }\n",
       ".datatable .str     { background: #CC4040; }\n",
       ".datatable .time    { background: #40CC40; }\n",
       ".datatable .row_index {  background: var(--jp-border-color3);  border-right: 1px solid var(--jp-border-color0);  color: var(--jp-ui-font-color3);  font-size: 9px;}\n",
       ".datatable .frame tbody td { text-align: left; }\n",
       ".datatable .frame tr.coltypes .row_index {  background: var(--jp-border-color0);}\n",
       ".datatable th:nth-child(2) { padding-left: 12px; }\n",
       ".datatable .hellipsis {  color: var(--jp-cell-editor-border-color);}\n",
       ".datatable .vellipsis {  background: var(--jp-layout-color0);  color: var(--jp-cell-editor-border-color);}\n",
       ".datatable .na {  color: var(--jp-cell-editor-border-color);  font-size: 80%;}\n",
       ".datatable .sp {  opacity: 0.25;}\n",
       ".datatable .footer { font-size: 9px; }\n",
       ".datatable .frame_dimensions {  background: var(--jp-border-color3);  border-top: 1px solid var(--jp-border-color0);  color: var(--jp-ui-font-color3);  display: inline-block;  opacity: 0.6;  padding: 1px 10px 1px 5px;}\n",
       "</style>\n"
      ],
      "text/plain": [
       "<IPython.core.display.HTML object>"
      ]
     },
     "metadata": {},
     "output_type": "display_data"
    }
   ],
   "source": [
    "import numpy as np\n",
    "import os\n",
    "import pandas as pd\n",
    "from pandas.plotting import scatter_matrix\n",
    "from sklearn.preprocessing import OneHotEncoder, StandardScaler\n",
    "import lightgbm as lgb\n",
    "from sklearn.feature_selection import RFE, RFECV\n",
    "from sklearn.impute import SimpleImputer\n",
    "from sklearn.base import TransformerMixin, BaseEstimator\n",
    "from sklearn.pipeline import make_pipeline, FeatureUnion, Pipeline\n",
    "from sklearn.model_selection import train_test_split, cross_val_score, GridSearchCV, cross_validate\n",
    "from sklearn.metrics import accuracy_score, classification_report, precision_score, recall_score \n",
    "from sklearn.metrics import confusion_matrix, precision_recall_curve, roc_curve, roc_auc_score, auc, log_loss\n",
    "from sklearn.compose import ColumnTransformer\n",
    "import matplotlib.pyplot as plt"
   ]
  },
  {
   "cell_type": "markdown",
   "id": "868c0904",
   "metadata": {
    "papermill": {
     "duration": 0.108997,
     "end_time": "2021-08-08T00:06:22.877173",
     "exception": false,
     "start_time": "2021-08-08T00:06:22.768176",
     "status": "completed"
    },
    "tags": []
   },
   "source": [
    "## Loading the data"
   ]
  },
  {
   "cell_type": "code",
   "execution_count": 7,
   "id": "73fd62f7",
   "metadata": {
    "execution": {
     "iopub.execute_input": "2021-08-08T00:06:23.096884Z",
     "iopub.status.busy": "2021-08-08T00:06:23.096234Z",
     "iopub.status.idle": "2021-08-08T00:06:23.166765Z",
     "shell.execute_reply": "2021-08-08T00:06:23.165834Z",
     "shell.execute_reply.started": "2021-08-07T22:37:19.483310Z"
    },
    "papermill": {
     "duration": 0.18156,
     "end_time": "2021-08-08T00:06:23.166926",
     "exception": false,
     "start_time": "2021-08-08T00:06:22.985366",
     "status": "completed"
    },
    "tags": []
   },
   "outputs": [],
   "source": [
    "train = pd.read_csv('../input/house-prices-advanced-regression-techniques/train.csv')\n",
    "test = pd.read_csv('../input/house-prices-advanced-regression-techniques/test.csv')"
   ]
  },
  {
   "cell_type": "markdown",
   "id": "1e3a5845",
   "metadata": {
    "papermill": {
     "duration": 0.10767,
     "end_time": "2021-08-08T00:06:23.382009",
     "exception": false,
     "start_time": "2021-08-08T00:06:23.274339",
     "status": "completed"
    },
    "tags": []
   },
   "source": [
    "## Preprocessing"
   ]
  },
  {
   "cell_type": "code",
   "execution_count": 8,
   "id": "ebbd6111",
   "metadata": {
    "execution": {
     "iopub.execute_input": "2021-08-08T00:06:23.610507Z",
     "iopub.status.busy": "2021-08-08T00:06:23.609842Z",
     "iopub.status.idle": "2021-08-08T00:06:23.632768Z",
     "shell.execute_reply": "2021-08-08T00:06:23.633448Z",
     "shell.execute_reply.started": "2021-08-07T22:39:12.729712Z"
    },
    "papermill": {
     "duration": 0.145124,
     "end_time": "2021-08-08T00:06:23.633627",
     "exception": false,
     "start_time": "2021-08-08T00:06:23.488503",
     "status": "completed"
    },
    "tags": []
   },
   "outputs": [
    {
     "data": {
      "text/html": [
       "<div>\n",
       "<style scoped>\n",
       "    .dataframe tbody tr th:only-of-type {\n",
       "        vertical-align: middle;\n",
       "    }\n",
       "\n",
       "    .dataframe tbody tr th {\n",
       "        vertical-align: top;\n",
       "    }\n",
       "\n",
       "    .dataframe thead th {\n",
       "        text-align: right;\n",
       "    }\n",
       "</style>\n",
       "<table border=\"1\" class=\"dataframe\">\n",
       "  <thead>\n",
       "    <tr style=\"text-align: right;\">\n",
       "      <th></th>\n",
       "      <th>Id</th>\n",
       "      <th>MSSubClass</th>\n",
       "      <th>MSZoning</th>\n",
       "      <th>LotFrontage</th>\n",
       "      <th>LotArea</th>\n",
       "      <th>Street</th>\n",
       "      <th>Alley</th>\n",
       "      <th>LotShape</th>\n",
       "      <th>LandContour</th>\n",
       "      <th>Utilities</th>\n",
       "      <th>...</th>\n",
       "      <th>PoolArea</th>\n",
       "      <th>PoolQC</th>\n",
       "      <th>Fence</th>\n",
       "      <th>MiscFeature</th>\n",
       "      <th>MiscVal</th>\n",
       "      <th>MoSold</th>\n",
       "      <th>YrSold</th>\n",
       "      <th>SaleType</th>\n",
       "      <th>SaleCondition</th>\n",
       "      <th>SalePrice</th>\n",
       "    </tr>\n",
       "  </thead>\n",
       "  <tbody>\n",
       "    <tr>\n",
       "      <th>0</th>\n",
       "      <td>1</td>\n",
       "      <td>60</td>\n",
       "      <td>RL</td>\n",
       "      <td>65.0</td>\n",
       "      <td>8450</td>\n",
       "      <td>Pave</td>\n",
       "      <td>NaN</td>\n",
       "      <td>Reg</td>\n",
       "      <td>Lvl</td>\n",
       "      <td>AllPub</td>\n",
       "      <td>...</td>\n",
       "      <td>0</td>\n",
       "      <td>NaN</td>\n",
       "      <td>NaN</td>\n",
       "      <td>NaN</td>\n",
       "      <td>0</td>\n",
       "      <td>2</td>\n",
       "      <td>2008</td>\n",
       "      <td>WD</td>\n",
       "      <td>Normal</td>\n",
       "      <td>208500</td>\n",
       "    </tr>\n",
       "    <tr>\n",
       "      <th>1</th>\n",
       "      <td>2</td>\n",
       "      <td>20</td>\n",
       "      <td>RL</td>\n",
       "      <td>80.0</td>\n",
       "      <td>9600</td>\n",
       "      <td>Pave</td>\n",
       "      <td>NaN</td>\n",
       "      <td>Reg</td>\n",
       "      <td>Lvl</td>\n",
       "      <td>AllPub</td>\n",
       "      <td>...</td>\n",
       "      <td>0</td>\n",
       "      <td>NaN</td>\n",
       "      <td>NaN</td>\n",
       "      <td>NaN</td>\n",
       "      <td>0</td>\n",
       "      <td>5</td>\n",
       "      <td>2007</td>\n",
       "      <td>WD</td>\n",
       "      <td>Normal</td>\n",
       "      <td>181500</td>\n",
       "    </tr>\n",
       "    <tr>\n",
       "      <th>2</th>\n",
       "      <td>3</td>\n",
       "      <td>60</td>\n",
       "      <td>RL</td>\n",
       "      <td>68.0</td>\n",
       "      <td>11250</td>\n",
       "      <td>Pave</td>\n",
       "      <td>NaN</td>\n",
       "      <td>IR1</td>\n",
       "      <td>Lvl</td>\n",
       "      <td>AllPub</td>\n",
       "      <td>...</td>\n",
       "      <td>0</td>\n",
       "      <td>NaN</td>\n",
       "      <td>NaN</td>\n",
       "      <td>NaN</td>\n",
       "      <td>0</td>\n",
       "      <td>9</td>\n",
       "      <td>2008</td>\n",
       "      <td>WD</td>\n",
       "      <td>Normal</td>\n",
       "      <td>223500</td>\n",
       "    </tr>\n",
       "    <tr>\n",
       "      <th>3</th>\n",
       "      <td>4</td>\n",
       "      <td>70</td>\n",
       "      <td>RL</td>\n",
       "      <td>60.0</td>\n",
       "      <td>9550</td>\n",
       "      <td>Pave</td>\n",
       "      <td>NaN</td>\n",
       "      <td>IR1</td>\n",
       "      <td>Lvl</td>\n",
       "      <td>AllPub</td>\n",
       "      <td>...</td>\n",
       "      <td>0</td>\n",
       "      <td>NaN</td>\n",
       "      <td>NaN</td>\n",
       "      <td>NaN</td>\n",
       "      <td>0</td>\n",
       "      <td>2</td>\n",
       "      <td>2006</td>\n",
       "      <td>WD</td>\n",
       "      <td>Abnorml</td>\n",
       "      <td>140000</td>\n",
       "    </tr>\n",
       "    <tr>\n",
       "      <th>4</th>\n",
       "      <td>5</td>\n",
       "      <td>60</td>\n",
       "      <td>RL</td>\n",
       "      <td>84.0</td>\n",
       "      <td>14260</td>\n",
       "      <td>Pave</td>\n",
       "      <td>NaN</td>\n",
       "      <td>IR1</td>\n",
       "      <td>Lvl</td>\n",
       "      <td>AllPub</td>\n",
       "      <td>...</td>\n",
       "      <td>0</td>\n",
       "      <td>NaN</td>\n",
       "      <td>NaN</td>\n",
       "      <td>NaN</td>\n",
       "      <td>0</td>\n",
       "      <td>12</td>\n",
       "      <td>2008</td>\n",
       "      <td>WD</td>\n",
       "      <td>Normal</td>\n",
       "      <td>250000</td>\n",
       "    </tr>\n",
       "  </tbody>\n",
       "</table>\n",
       "<p>5 rows × 81 columns</p>\n",
       "</div>"
      ],
      "text/plain": [
       "   Id  MSSubClass MSZoning  LotFrontage  LotArea Street Alley LotShape  \\\n",
       "0   1          60       RL         65.0     8450   Pave   NaN      Reg   \n",
       "1   2          20       RL         80.0     9600   Pave   NaN      Reg   \n",
       "2   3          60       RL         68.0    11250   Pave   NaN      IR1   \n",
       "3   4          70       RL         60.0     9550   Pave   NaN      IR1   \n",
       "4   5          60       RL         84.0    14260   Pave   NaN      IR1   \n",
       "\n",
       "  LandContour Utilities  ... PoolArea PoolQC Fence MiscFeature MiscVal MoSold  \\\n",
       "0         Lvl    AllPub  ...        0    NaN   NaN         NaN       0      2   \n",
       "1         Lvl    AllPub  ...        0    NaN   NaN         NaN       0      5   \n",
       "2         Lvl    AllPub  ...        0    NaN   NaN         NaN       0      9   \n",
       "3         Lvl    AllPub  ...        0    NaN   NaN         NaN       0      2   \n",
       "4         Lvl    AllPub  ...        0    NaN   NaN         NaN       0     12   \n",
       "\n",
       "  YrSold  SaleType  SaleCondition  SalePrice  \n",
       "0   2008        WD         Normal     208500  \n",
       "1   2007        WD         Normal     181500  \n",
       "2   2008        WD         Normal     223500  \n",
       "3   2006        WD        Abnorml     140000  \n",
       "4   2008        WD         Normal     250000  \n",
       "\n",
       "[5 rows x 81 columns]"
      ]
     },
     "execution_count": 8,
     "metadata": {},
     "output_type": "execute_result"
    }
   ],
   "source": [
    "train.head()"
   ]
  },
  {
   "cell_type": "code",
   "execution_count": 9,
   "id": "3d6be7ac",
   "metadata": {
    "execution": {
     "iopub.execute_input": "2021-08-08T00:06:23.859406Z",
     "iopub.status.busy": "2021-08-08T00:06:23.858855Z",
     "iopub.status.idle": "2021-08-08T00:06:23.864746Z",
     "shell.execute_reply": "2021-08-08T00:06:23.865193Z",
     "shell.execute_reply.started": "2021-08-07T22:39:19.054037Z"
    },
    "papermill": {
     "duration": 0.11767,
     "end_time": "2021-08-08T00:06:23.865342",
     "exception": false,
     "start_time": "2021-08-08T00:06:23.747672",
     "status": "completed"
    },
    "tags": []
   },
   "outputs": [
    {
     "data": {
      "text/plain": [
       "(1460, 81)"
      ]
     },
     "execution_count": 9,
     "metadata": {},
     "output_type": "execute_result"
    }
   ],
   "source": [
    "train.shape"
   ]
  },
  {
   "cell_type": "code",
   "execution_count": 10,
   "id": "5192dfe3",
   "metadata": {
    "execution": {
     "iopub.execute_input": "2021-08-08T00:06:24.089781Z",
     "iopub.status.busy": "2021-08-08T00:06:24.089207Z",
     "iopub.status.idle": "2021-08-08T00:06:24.098239Z",
     "shell.execute_reply": "2021-08-08T00:06:24.097691Z",
     "shell.execute_reply.started": "2021-08-07T22:39:21.331806Z"
    },
    "papermill": {
     "duration": 0.126234,
     "end_time": "2021-08-08T00:06:24.098366",
     "exception": false,
     "start_time": "2021-08-08T00:06:23.972132",
     "status": "completed"
    },
    "tags": []
   },
   "outputs": [
    {
     "data": {
      "text/plain": [
       "Id                 0\n",
       "MSSubClass         0\n",
       "MSZoning           0\n",
       "LotFrontage      259\n",
       "LotArea            0\n",
       "                ... \n",
       "MoSold             0\n",
       "YrSold             0\n",
       "SaleType           0\n",
       "SaleCondition      0\n",
       "SalePrice          0\n",
       "Length: 81, dtype: int64"
      ]
     },
     "execution_count": 10,
     "metadata": {},
     "output_type": "execute_result"
    }
   ],
   "source": [
    "train.isnull().sum()"
   ]
  },
  {
   "cell_type": "code",
   "execution_count": 11,
   "id": "6a610509",
   "metadata": {
    "execution": {
     "iopub.execute_input": "2021-08-08T00:06:24.347371Z",
     "iopub.status.busy": "2021-08-08T00:06:24.346559Z",
     "iopub.status.idle": "2021-08-08T00:06:24.367679Z",
     "shell.execute_reply": "2021-08-08T00:06:24.368389Z",
     "shell.execute_reply.started": "2021-08-07T22:39:24.995684Z"
    },
    "papermill": {
     "duration": 0.146847,
     "end_time": "2021-08-08T00:06:24.368602",
     "exception": false,
     "start_time": "2021-08-08T00:06:24.221755",
     "status": "completed"
    },
    "tags": []
   },
   "outputs": [
    {
     "name": "stdout",
     "output_type": "stream",
     "text": [
      "<class 'pandas.core.frame.DataFrame'>\n",
      "RangeIndex: 1460 entries, 0 to 1459\n",
      "Data columns (total 81 columns):\n",
      " #   Column         Non-Null Count  Dtype  \n",
      "---  ------         --------------  -----  \n",
      " 0   Id             1460 non-null   int64  \n",
      " 1   MSSubClass     1460 non-null   int64  \n",
      " 2   MSZoning       1460 non-null   object \n",
      " 3   LotFrontage    1201 non-null   float64\n",
      " 4   LotArea        1460 non-null   int64  \n",
      " 5   Street         1460 non-null   object \n",
      " 6   Alley          91 non-null     object \n",
      " 7   LotShape       1460 non-null   object \n",
      " 8   LandContour    1460 non-null   object \n",
      " 9   Utilities      1460 non-null   object \n",
      " 10  LotConfig      1460 non-null   object \n",
      " 11  LandSlope      1460 non-null   object \n",
      " 12  Neighborhood   1460 non-null   object \n",
      " 13  Condition1     1460 non-null   object \n",
      " 14  Condition2     1460 non-null   object \n",
      " 15  BldgType       1460 non-null   object \n",
      " 16  HouseStyle     1460 non-null   object \n",
      " 17  OverallQual    1460 non-null   int64  \n",
      " 18  OverallCond    1460 non-null   int64  \n",
      " 19  YearBuilt      1460 non-null   int64  \n",
      " 20  YearRemodAdd   1460 non-null   int64  \n",
      " 21  RoofStyle      1460 non-null   object \n",
      " 22  RoofMatl       1460 non-null   object \n",
      " 23  Exterior1st    1460 non-null   object \n",
      " 24  Exterior2nd    1460 non-null   object \n",
      " 25  MasVnrType     1452 non-null   object \n",
      " 26  MasVnrArea     1452 non-null   float64\n",
      " 27  ExterQual      1460 non-null   object \n",
      " 28  ExterCond      1460 non-null   object \n",
      " 29  Foundation     1460 non-null   object \n",
      " 30  BsmtQual       1423 non-null   object \n",
      " 31  BsmtCond       1423 non-null   object \n",
      " 32  BsmtExposure   1422 non-null   object \n",
      " 33  BsmtFinType1   1423 non-null   object \n",
      " 34  BsmtFinSF1     1460 non-null   int64  \n",
      " 35  BsmtFinType2   1422 non-null   object \n",
      " 36  BsmtFinSF2     1460 non-null   int64  \n",
      " 37  BsmtUnfSF      1460 non-null   int64  \n",
      " 38  TotalBsmtSF    1460 non-null   int64  \n",
      " 39  Heating        1460 non-null   object \n",
      " 40  HeatingQC      1460 non-null   object \n",
      " 41  CentralAir     1460 non-null   object \n",
      " 42  Electrical     1459 non-null   object \n",
      " 43  1stFlrSF       1460 non-null   int64  \n",
      " 44  2ndFlrSF       1460 non-null   int64  \n",
      " 45  LowQualFinSF   1460 non-null   int64  \n",
      " 46  GrLivArea      1460 non-null   int64  \n",
      " 47  BsmtFullBath   1460 non-null   int64  \n",
      " 48  BsmtHalfBath   1460 non-null   int64  \n",
      " 49  FullBath       1460 non-null   int64  \n",
      " 50  HalfBath       1460 non-null   int64  \n",
      " 51  BedroomAbvGr   1460 non-null   int64  \n",
      " 52  KitchenAbvGr   1460 non-null   int64  \n",
      " 53  KitchenQual    1460 non-null   object \n",
      " 54  TotRmsAbvGrd   1460 non-null   int64  \n",
      " 55  Functional     1460 non-null   object \n",
      " 56  Fireplaces     1460 non-null   int64  \n",
      " 57  FireplaceQu    770 non-null    object \n",
      " 58  GarageType     1379 non-null   object \n",
      " 59  GarageYrBlt    1379 non-null   float64\n",
      " 60  GarageFinish   1379 non-null   object \n",
      " 61  GarageCars     1460 non-null   int64  \n",
      " 62  GarageArea     1460 non-null   int64  \n",
      " 63  GarageQual     1379 non-null   object \n",
      " 64  GarageCond     1379 non-null   object \n",
      " 65  PavedDrive     1460 non-null   object \n",
      " 66  WoodDeckSF     1460 non-null   int64  \n",
      " 67  OpenPorchSF    1460 non-null   int64  \n",
      " 68  EnclosedPorch  1460 non-null   int64  \n",
      " 69  3SsnPorch      1460 non-null   int64  \n",
      " 70  ScreenPorch    1460 non-null   int64  \n",
      " 71  PoolArea       1460 non-null   int64  \n",
      " 72  PoolQC         7 non-null      object \n",
      " 73  Fence          281 non-null    object \n",
      " 74  MiscFeature    54 non-null     object \n",
      " 75  MiscVal        1460 non-null   int64  \n",
      " 76  MoSold         1460 non-null   int64  \n",
      " 77  YrSold         1460 non-null   int64  \n",
      " 78  SaleType       1460 non-null   object \n",
      " 79  SaleCondition  1460 non-null   object \n",
      " 80  SalePrice      1460 non-null   int64  \n",
      "dtypes: float64(3), int64(35), object(43)\n",
      "memory usage: 924.0+ KB\n"
     ]
    }
   ],
   "source": [
    "train.info()"
   ]
  },
  {
   "cell_type": "code",
   "execution_count": 12,
   "id": "54ed05da",
   "metadata": {
    "execution": {
     "iopub.execute_input": "2021-08-08T00:06:24.598451Z",
     "iopub.status.busy": "2021-08-08T00:06:24.597637Z",
     "iopub.status.idle": "2021-08-08T00:06:24.601021Z",
     "shell.execute_reply": "2021-08-08T00:06:24.601434Z",
     "shell.execute_reply.started": "2021-08-07T22:39:56.669931Z"
    },
    "papermill": {
     "duration": 0.117034,
     "end_time": "2021-08-08T00:06:24.601561",
     "exception": false,
     "start_time": "2021-08-08T00:06:24.484527",
     "status": "completed"
    },
    "tags": []
   },
   "outputs": [],
   "source": [
    "variables = train.drop([\"Id\",\"SalePrice\"], axis=1)\n",
    "var_resp = train[\"SalePrice\"].copy()"
   ]
  },
  {
   "cell_type": "code",
   "execution_count": 13,
   "id": "606f2064",
   "metadata": {
    "execution": {
     "iopub.execute_input": "2021-08-08T00:06:24.844123Z",
     "iopub.status.busy": "2021-08-08T00:06:24.843036Z",
     "iopub.status.idle": "2021-08-08T00:06:24.847812Z",
     "shell.execute_reply": "2021-08-08T00:06:24.847301Z",
     "shell.execute_reply.started": "2021-08-07T22:39:57.912656Z"
    },
    "papermill": {
     "duration": 0.137405,
     "end_time": "2021-08-08T00:06:24.847964",
     "exception": false,
     "start_time": "2021-08-08T00:06:24.710559",
     "status": "completed"
    },
    "tags": []
   },
   "outputs": [
    {
     "data": {
      "text/html": [
       "<div>\n",
       "<style scoped>\n",
       "    .dataframe tbody tr th:only-of-type {\n",
       "        vertical-align: middle;\n",
       "    }\n",
       "\n",
       "    .dataframe tbody tr th {\n",
       "        vertical-align: top;\n",
       "    }\n",
       "\n",
       "    .dataframe thead th {\n",
       "        text-align: right;\n",
       "    }\n",
       "</style>\n",
       "<table border=\"1\" class=\"dataframe\">\n",
       "  <thead>\n",
       "    <tr style=\"text-align: right;\">\n",
       "      <th></th>\n",
       "      <th>Id</th>\n",
       "      <th>MSSubClass</th>\n",
       "      <th>MSZoning</th>\n",
       "      <th>LotFrontage</th>\n",
       "      <th>LotArea</th>\n",
       "      <th>Street</th>\n",
       "      <th>Alley</th>\n",
       "      <th>LotShape</th>\n",
       "      <th>LandContour</th>\n",
       "      <th>Utilities</th>\n",
       "      <th>...</th>\n",
       "      <th>ScreenPorch</th>\n",
       "      <th>PoolArea</th>\n",
       "      <th>PoolQC</th>\n",
       "      <th>Fence</th>\n",
       "      <th>MiscFeature</th>\n",
       "      <th>MiscVal</th>\n",
       "      <th>MoSold</th>\n",
       "      <th>YrSold</th>\n",
       "      <th>SaleType</th>\n",
       "      <th>SaleCondition</th>\n",
       "    </tr>\n",
       "  </thead>\n",
       "  <tbody>\n",
       "    <tr>\n",
       "      <th>0</th>\n",
       "      <td>1461</td>\n",
       "      <td>20</td>\n",
       "      <td>RH</td>\n",
       "      <td>80.0</td>\n",
       "      <td>11622</td>\n",
       "      <td>Pave</td>\n",
       "      <td>NaN</td>\n",
       "      <td>Reg</td>\n",
       "      <td>Lvl</td>\n",
       "      <td>AllPub</td>\n",
       "      <td>...</td>\n",
       "      <td>120</td>\n",
       "      <td>0</td>\n",
       "      <td>NaN</td>\n",
       "      <td>MnPrv</td>\n",
       "      <td>NaN</td>\n",
       "      <td>0</td>\n",
       "      <td>6</td>\n",
       "      <td>2010</td>\n",
       "      <td>WD</td>\n",
       "      <td>Normal</td>\n",
       "    </tr>\n",
       "    <tr>\n",
       "      <th>1</th>\n",
       "      <td>1462</td>\n",
       "      <td>20</td>\n",
       "      <td>RL</td>\n",
       "      <td>81.0</td>\n",
       "      <td>14267</td>\n",
       "      <td>Pave</td>\n",
       "      <td>NaN</td>\n",
       "      <td>IR1</td>\n",
       "      <td>Lvl</td>\n",
       "      <td>AllPub</td>\n",
       "      <td>...</td>\n",
       "      <td>0</td>\n",
       "      <td>0</td>\n",
       "      <td>NaN</td>\n",
       "      <td>NaN</td>\n",
       "      <td>Gar2</td>\n",
       "      <td>12500</td>\n",
       "      <td>6</td>\n",
       "      <td>2010</td>\n",
       "      <td>WD</td>\n",
       "      <td>Normal</td>\n",
       "    </tr>\n",
       "    <tr>\n",
       "      <th>2</th>\n",
       "      <td>1463</td>\n",
       "      <td>60</td>\n",
       "      <td>RL</td>\n",
       "      <td>74.0</td>\n",
       "      <td>13830</td>\n",
       "      <td>Pave</td>\n",
       "      <td>NaN</td>\n",
       "      <td>IR1</td>\n",
       "      <td>Lvl</td>\n",
       "      <td>AllPub</td>\n",
       "      <td>...</td>\n",
       "      <td>0</td>\n",
       "      <td>0</td>\n",
       "      <td>NaN</td>\n",
       "      <td>MnPrv</td>\n",
       "      <td>NaN</td>\n",
       "      <td>0</td>\n",
       "      <td>3</td>\n",
       "      <td>2010</td>\n",
       "      <td>WD</td>\n",
       "      <td>Normal</td>\n",
       "    </tr>\n",
       "    <tr>\n",
       "      <th>3</th>\n",
       "      <td>1464</td>\n",
       "      <td>60</td>\n",
       "      <td>RL</td>\n",
       "      <td>78.0</td>\n",
       "      <td>9978</td>\n",
       "      <td>Pave</td>\n",
       "      <td>NaN</td>\n",
       "      <td>IR1</td>\n",
       "      <td>Lvl</td>\n",
       "      <td>AllPub</td>\n",
       "      <td>...</td>\n",
       "      <td>0</td>\n",
       "      <td>0</td>\n",
       "      <td>NaN</td>\n",
       "      <td>NaN</td>\n",
       "      <td>NaN</td>\n",
       "      <td>0</td>\n",
       "      <td>6</td>\n",
       "      <td>2010</td>\n",
       "      <td>WD</td>\n",
       "      <td>Normal</td>\n",
       "    </tr>\n",
       "    <tr>\n",
       "      <th>4</th>\n",
       "      <td>1465</td>\n",
       "      <td>120</td>\n",
       "      <td>RL</td>\n",
       "      <td>43.0</td>\n",
       "      <td>5005</td>\n",
       "      <td>Pave</td>\n",
       "      <td>NaN</td>\n",
       "      <td>IR1</td>\n",
       "      <td>HLS</td>\n",
       "      <td>AllPub</td>\n",
       "      <td>...</td>\n",
       "      <td>144</td>\n",
       "      <td>0</td>\n",
       "      <td>NaN</td>\n",
       "      <td>NaN</td>\n",
       "      <td>NaN</td>\n",
       "      <td>0</td>\n",
       "      <td>1</td>\n",
       "      <td>2010</td>\n",
       "      <td>WD</td>\n",
       "      <td>Normal</td>\n",
       "    </tr>\n",
       "  </tbody>\n",
       "</table>\n",
       "<p>5 rows × 80 columns</p>\n",
       "</div>"
      ],
      "text/plain": [
       "     Id  MSSubClass MSZoning  LotFrontage  LotArea Street Alley LotShape  \\\n",
       "0  1461          20       RH         80.0    11622   Pave   NaN      Reg   \n",
       "1  1462          20       RL         81.0    14267   Pave   NaN      IR1   \n",
       "2  1463          60       RL         74.0    13830   Pave   NaN      IR1   \n",
       "3  1464          60       RL         78.0     9978   Pave   NaN      IR1   \n",
       "4  1465         120       RL         43.0     5005   Pave   NaN      IR1   \n",
       "\n",
       "  LandContour Utilities  ... ScreenPorch PoolArea PoolQC  Fence MiscFeature  \\\n",
       "0         Lvl    AllPub  ...         120        0    NaN  MnPrv         NaN   \n",
       "1         Lvl    AllPub  ...           0        0    NaN    NaN        Gar2   \n",
       "2         Lvl    AllPub  ...           0        0    NaN  MnPrv         NaN   \n",
       "3         Lvl    AllPub  ...           0        0    NaN    NaN         NaN   \n",
       "4         HLS    AllPub  ...         144        0    NaN    NaN         NaN   \n",
       "\n",
       "  MiscVal MoSold  YrSold  SaleType  SaleCondition  \n",
       "0       0      6    2010        WD         Normal  \n",
       "1   12500      6    2010        WD         Normal  \n",
       "2       0      3    2010        WD         Normal  \n",
       "3       0      6    2010        WD         Normal  \n",
       "4       0      1    2010        WD         Normal  \n",
       "\n",
       "[5 rows x 80 columns]"
      ]
     },
     "execution_count": 13,
     "metadata": {},
     "output_type": "execute_result"
    }
   ],
   "source": [
    "test.head()"
   ]
  },
  {
   "cell_type": "code",
   "execution_count": 14,
   "id": "03285cd8",
   "metadata": {
    "execution": {
     "iopub.execute_input": "2021-08-08T00:06:25.079015Z",
     "iopub.status.busy": "2021-08-08T00:06:25.077904Z",
     "iopub.status.idle": "2021-08-08T00:06:25.085729Z",
     "shell.execute_reply": "2021-08-08T00:06:25.085242Z",
     "shell.execute_reply.started": "2021-08-07T22:40:07.995339Z"
    },
    "papermill": {
     "duration": 0.12249,
     "end_time": "2021-08-08T00:06:25.085851",
     "exception": false,
     "start_time": "2021-08-08T00:06:24.963361",
     "status": "completed"
    },
    "tags": []
   },
   "outputs": [],
   "source": [
    "x_train, x_test, y_train, y_test = train_test_split(variables, var_resp, test_size=0.2, random_state=2)"
   ]
  },
  {
   "cell_type": "code",
   "execution_count": 15,
   "id": "60c8dec5",
   "metadata": {
    "execution": {
     "iopub.execute_input": "2021-08-08T00:06:25.409134Z",
     "iopub.status.busy": "2021-08-08T00:06:25.408206Z",
     "iopub.status.idle": "2021-08-08T00:06:25.437367Z",
     "shell.execute_reply": "2021-08-08T00:06:25.438333Z",
     "shell.execute_reply.started": "2021-08-07T22:40:09.419400Z"
    },
    "papermill": {
     "duration": 0.238519,
     "end_time": "2021-08-08T00:06:25.438499",
     "exception": false,
     "start_time": "2021-08-08T00:06:25.199980",
     "status": "completed"
    },
    "tags": []
   },
   "outputs": [
    {
     "name": "stdout",
     "output_type": "stream",
     "text": [
      "<class 'pandas.core.frame.DataFrame'>\n",
      "Int64Index: 1168 entries, 455 to 1192\n",
      "Data columns (total 79 columns):\n",
      " #   Column         Non-Null Count  Dtype  \n",
      "---  ------         --------------  -----  \n",
      " 0   MSSubClass     1168 non-null   int64  \n",
      " 1   MSZoning       1168 non-null   object \n",
      " 2   LotFrontage    967 non-null    float64\n",
      " 3   LotArea        1168 non-null   int64  \n",
      " 4   Street         1168 non-null   object \n",
      " 5   Alley          74 non-null     object \n",
      " 6   LotShape       1168 non-null   object \n",
      " 7   LandContour    1168 non-null   object \n",
      " 8   Utilities      1168 non-null   object \n",
      " 9   LotConfig      1168 non-null   object \n",
      " 10  LandSlope      1168 non-null   object \n",
      " 11  Neighborhood   1168 non-null   object \n",
      " 12  Condition1     1168 non-null   object \n",
      " 13  Condition2     1168 non-null   object \n",
      " 14  BldgType       1168 non-null   object \n",
      " 15  HouseStyle     1168 non-null   object \n",
      " 16  OverallQual    1168 non-null   int64  \n",
      " 17  OverallCond    1168 non-null   int64  \n",
      " 18  YearBuilt      1168 non-null   int64  \n",
      " 19  YearRemodAdd   1168 non-null   int64  \n",
      " 20  RoofStyle      1168 non-null   object \n",
      " 21  RoofMatl       1168 non-null   object \n",
      " 22  Exterior1st    1168 non-null   object \n",
      " 23  Exterior2nd    1168 non-null   object \n",
      " 24  MasVnrType     1162 non-null   object \n",
      " 25  MasVnrArea     1162 non-null   float64\n",
      " 26  ExterQual      1168 non-null   object \n",
      " 27  ExterCond      1168 non-null   object \n",
      " 28  Foundation     1168 non-null   object \n",
      " 29  BsmtQual       1138 non-null   object \n",
      " 30  BsmtCond       1138 non-null   object \n",
      " 31  BsmtExposure   1137 non-null   object \n",
      " 32  BsmtFinType1   1138 non-null   object \n",
      " 33  BsmtFinSF1     1168 non-null   int64  \n",
      " 34  BsmtFinType2   1138 non-null   object \n",
      " 35  BsmtFinSF2     1168 non-null   int64  \n",
      " 36  BsmtUnfSF      1168 non-null   int64  \n",
      " 37  TotalBsmtSF    1168 non-null   int64  \n",
      " 38  Heating        1168 non-null   object \n",
      " 39  HeatingQC      1168 non-null   object \n",
      " 40  CentralAir     1168 non-null   object \n",
      " 41  Electrical     1167 non-null   object \n",
      " 42  1stFlrSF       1168 non-null   int64  \n",
      " 43  2ndFlrSF       1168 non-null   int64  \n",
      " 44  LowQualFinSF   1168 non-null   int64  \n",
      " 45  GrLivArea      1168 non-null   int64  \n",
      " 46  BsmtFullBath   1168 non-null   int64  \n",
      " 47  BsmtHalfBath   1168 non-null   int64  \n",
      " 48  FullBath       1168 non-null   int64  \n",
      " 49  HalfBath       1168 non-null   int64  \n",
      " 50  BedroomAbvGr   1168 non-null   int64  \n",
      " 51  KitchenAbvGr   1168 non-null   int64  \n",
      " 52  KitchenQual    1168 non-null   object \n",
      " 53  TotRmsAbvGrd   1168 non-null   int64  \n",
      " 54  Functional     1168 non-null   object \n",
      " 55  Fireplaces     1168 non-null   int64  \n",
      " 56  FireplaceQu    611 non-null    object \n",
      " 57  GarageType     1103 non-null   object \n",
      " 58  GarageYrBlt    1103 non-null   float64\n",
      " 59  GarageFinish   1103 non-null   object \n",
      " 60  GarageCars     1168 non-null   int64  \n",
      " 61  GarageArea     1168 non-null   int64  \n",
      " 62  GarageQual     1103 non-null   object \n",
      " 63  GarageCond     1103 non-null   object \n",
      " 64  PavedDrive     1168 non-null   object \n",
      " 65  WoodDeckSF     1168 non-null   int64  \n",
      " 66  OpenPorchSF    1168 non-null   int64  \n",
      " 67  EnclosedPorch  1168 non-null   int64  \n",
      " 68  3SsnPorch      1168 non-null   int64  \n",
      " 69  ScreenPorch    1168 non-null   int64  \n",
      " 70  PoolArea       1168 non-null   int64  \n",
      " 71  PoolQC         5 non-null      object \n",
      " 72  Fence          225 non-null    object \n",
      " 73  MiscFeature    47 non-null     object \n",
      " 74  MiscVal        1168 non-null   int64  \n",
      " 75  MoSold         1168 non-null   int64  \n",
      " 76  YrSold         1168 non-null   int64  \n",
      " 77  SaleType       1168 non-null   object \n",
      " 78  SaleCondition  1168 non-null   object \n",
      "dtypes: float64(3), int64(33), object(43)\n",
      "memory usage: 730.0+ KB\n"
     ]
    }
   ],
   "source": [
    "x_train.info()"
   ]
  },
  {
   "cell_type": "code",
   "execution_count": 16,
   "id": "d2af1ea0",
   "metadata": {
    "execution": {
     "iopub.execute_input": "2021-08-08T00:06:25.820433Z",
     "iopub.status.busy": "2021-08-08T00:06:25.819689Z",
     "iopub.status.idle": "2021-08-08T00:06:25.830718Z",
     "shell.execute_reply": "2021-08-08T00:06:25.830245Z",
     "shell.execute_reply.started": "2021-08-07T22:40:16.841218Z"
    },
    "papermill": {
     "duration": 0.19772,
     "end_time": "2021-08-08T00:06:25.830944",
     "exception": false,
     "start_time": "2021-08-08T00:06:25.633224",
     "status": "completed"
    },
    "tags": []
   },
   "outputs": [
    {
     "name": "stderr",
     "output_type": "stream",
     "text": [
      "/opt/conda/lib/python3.7/site-packages/pandas/core/frame.py:4315: SettingWithCopyWarning: \n",
      "A value is trying to be set on a copy of a slice from a DataFrame\n",
      "\n",
      "See the caveats in the documentation: https://pandas.pydata.org/pandas-docs/stable/user_guide/indexing.html#returning-a-view-versus-a-copy\n",
      "  errors=errors,\n"
     ]
    }
   ],
   "source": [
    "# Columns with high qty of missings\n",
    "columns = [\"Alley\", \"PoolQC\", \"MiscFeature\", \"Fence\", \"FireplaceQu\"]\n",
    "\n",
    "x_train.drop(columns, axis = 1, inplace = True)\n",
    "x_test.drop(columns, axis = 1, inplace = True)"
   ]
  },
  {
   "cell_type": "code",
   "execution_count": 17,
   "id": "145043c2",
   "metadata": {
    "execution": {
     "iopub.execute_input": "2021-08-08T00:06:26.061183Z",
     "iopub.status.busy": "2021-08-08T00:06:26.060401Z",
     "iopub.status.idle": "2021-08-08T00:06:26.062617Z",
     "shell.execute_reply": "2021-08-08T00:06:26.063075Z",
     "shell.execute_reply.started": "2021-08-07T22:40:18.400035Z"
    },
    "papermill": {
     "duration": 0.12115,
     "end_time": "2021-08-08T00:06:26.063202",
     "exception": false,
     "start_time": "2021-08-08T00:06:25.942052",
     "status": "completed"
    },
    "tags": []
   },
   "outputs": [],
   "source": [
    "# The ratio of the number of rooms to the number of rooms and the ratio of the number of bathrooms\n",
    "# by the number of rooms can be variables that improve the model\n",
    "def add_features(data):\n",
    "    data[\"bedrooms_per_rooms_abv_grad\"] = data[\"BedroomAbvGr\"].div(data[\"TotRmsAbvGrd\"]).replace(np.inf, 0)\n",
    "    data[\"bath_per_bedrooms_abv_grad\"] = data[\"FullBath\"].div(data[\"BedroomAbvGr\"]).replace(np.inf, 0)\n",
    "    data[\"LotFrontage\"] = data.groupby('Neighborhood')['LotFrontage'].transform(lambda x: x.fillna(x.median()))\n",
    "    data[\"YrBltAndRemod\"] = data['YearBuilt'] + data['YearRemodAdd']\n",
    "    data['TotalSF'] = data['TotalBsmtSF'] + data['1stFlrSF'] + data['2ndFlrSF']\n",
    "    data['Total_sqr_footage'] = data['BsmtFinSF1'] + data['BsmtFinSF2'] + data['1stFlrSF'] + data['2ndFlrSF']\n",
    "    data['Total_Bathrooms'] = (data['FullBath'] + (0.5 * data['HalfBath']) +\n",
    "                               data['BsmtFullBath'] + (0.5 * data['BsmtHalfBath']))\n",
    "    data['Total_porch_sf'] = (data['OpenPorchSF'] + data['3SsnPorch'] +\n",
    "                              data['EnclosedPorch'] + data['ScreenPorch'] +\n",
    "                              data['WoodDeckSF'])\n",
    "    return data"
   ]
  },
  {
   "cell_type": "code",
   "execution_count": 18,
   "id": "f4795e5d",
   "metadata": {
    "execution": {
     "iopub.execute_input": "2021-08-08T00:06:26.294168Z",
     "iopub.status.busy": "2021-08-08T00:06:26.291898Z",
     "iopub.status.idle": "2021-08-08T00:06:26.332361Z",
     "shell.execute_reply": "2021-08-08T00:06:26.331771Z",
     "shell.execute_reply.started": "2021-08-07T22:40:21.272912Z"
    },
    "papermill": {
     "duration": 0.158871,
     "end_time": "2021-08-08T00:06:26.332481",
     "exception": false,
     "start_time": "2021-08-08T00:06:26.173610",
     "status": "completed"
    },
    "tags": []
   },
   "outputs": [
    {
     "name": "stderr",
     "output_type": "stream",
     "text": [
      "/opt/conda/lib/python3.7/site-packages/ipykernel_launcher.py:4: SettingWithCopyWarning: \n",
      "A value is trying to be set on a copy of a slice from a DataFrame.\n",
      "Try using .loc[row_indexer,col_indexer] = value instead\n",
      "\n",
      "See the caveats in the documentation: https://pandas.pydata.org/pandas-docs/stable/user_guide/indexing.html#returning-a-view-versus-a-copy\n",
      "  after removing the cwd from sys.path.\n",
      "/opt/conda/lib/python3.7/site-packages/ipykernel_launcher.py:5: SettingWithCopyWarning: \n",
      "A value is trying to be set on a copy of a slice from a DataFrame.\n",
      "Try using .loc[row_indexer,col_indexer] = value instead\n",
      "\n",
      "See the caveats in the documentation: https://pandas.pydata.org/pandas-docs/stable/user_guide/indexing.html#returning-a-view-versus-a-copy\n",
      "  \"\"\"\n",
      "/opt/conda/lib/python3.7/site-packages/ipykernel_launcher.py:6: SettingWithCopyWarning: \n",
      "A value is trying to be set on a copy of a slice from a DataFrame.\n",
      "Try using .loc[row_indexer,col_indexer] = value instead\n",
      "\n",
      "See the caveats in the documentation: https://pandas.pydata.org/pandas-docs/stable/user_guide/indexing.html#returning-a-view-versus-a-copy\n",
      "  \n",
      "/opt/conda/lib/python3.7/site-packages/ipykernel_launcher.py:7: SettingWithCopyWarning: \n",
      "A value is trying to be set on a copy of a slice from a DataFrame.\n",
      "Try using .loc[row_indexer,col_indexer] = value instead\n",
      "\n",
      "See the caveats in the documentation: https://pandas.pydata.org/pandas-docs/stable/user_guide/indexing.html#returning-a-view-versus-a-copy\n",
      "  import sys\n",
      "/opt/conda/lib/python3.7/site-packages/ipykernel_launcher.py:8: SettingWithCopyWarning: \n",
      "A value is trying to be set on a copy of a slice from a DataFrame.\n",
      "Try using .loc[row_indexer,col_indexer] = value instead\n",
      "\n",
      "See the caveats in the documentation: https://pandas.pydata.org/pandas-docs/stable/user_guide/indexing.html#returning-a-view-versus-a-copy\n",
      "  \n",
      "/opt/conda/lib/python3.7/site-packages/ipykernel_launcher.py:9: SettingWithCopyWarning: \n",
      "A value is trying to be set on a copy of a slice from a DataFrame.\n",
      "Try using .loc[row_indexer,col_indexer] = value instead\n",
      "\n",
      "See the caveats in the documentation: https://pandas.pydata.org/pandas-docs/stable/user_guide/indexing.html#returning-a-view-versus-a-copy\n",
      "  if __name__ == '__main__':\n",
      "/opt/conda/lib/python3.7/site-packages/ipykernel_launcher.py:11: SettingWithCopyWarning: \n",
      "A value is trying to be set on a copy of a slice from a DataFrame.\n",
      "Try using .loc[row_indexer,col_indexer] = value instead\n",
      "\n",
      "See the caveats in the documentation: https://pandas.pydata.org/pandas-docs/stable/user_guide/indexing.html#returning-a-view-versus-a-copy\n",
      "  # This is added back by InteractiveShellApp.init_path()\n",
      "/opt/conda/lib/python3.7/site-packages/ipykernel_launcher.py:14: SettingWithCopyWarning: \n",
      "A value is trying to be set on a copy of a slice from a DataFrame.\n",
      "Try using .loc[row_indexer,col_indexer] = value instead\n",
      "\n",
      "See the caveats in the documentation: https://pandas.pydata.org/pandas-docs/stable/user_guide/indexing.html#returning-a-view-versus-a-copy\n",
      "  \n"
     ]
    }
   ],
   "source": [
    "x_train = add_features(x_train)\n",
    "x_test = add_features(x_test)"
   ]
  },
  {
   "cell_type": "code",
   "execution_count": 19,
   "id": "6851a77a",
   "metadata": {
    "execution": {
     "iopub.execute_input": "2021-08-08T00:06:26.559990Z",
     "iopub.status.busy": "2021-08-08T00:06:26.559200Z",
     "iopub.status.idle": "2021-08-08T00:06:26.561818Z",
     "shell.execute_reply": "2021-08-08T00:06:26.561386Z",
     "shell.execute_reply.started": "2021-08-07T22:40:42.956270Z"
    },
    "papermill": {
     "duration": 0.115962,
     "end_time": "2021-08-08T00:06:26.561935",
     "exception": false,
     "start_time": "2021-08-08T00:06:26.445973",
     "status": "completed"
    },
    "tags": []
   },
   "outputs": [],
   "source": [
    "num_pipeline = Pipeline([\n",
    "        ('imputer', SimpleImputer(strategy=\"median\")),\n",
    "        ('std_scaler', StandardScaler()),\n",
    "    ])\n",
    "\n",
    "cat_pipeline = Pipeline([\n",
    "        ('imputer', SimpleImputer(strategy=\"most_frequent\")),\n",
    "        ('oneHot', OneHotEncoder(handle_unknown='ignore')),\n",
    "    ])"
   ]
  },
  {
   "cell_type": "code",
   "execution_count": 20,
   "id": "b7d6e27c",
   "metadata": {
    "execution": {
     "iopub.execute_input": "2021-08-08T00:06:26.778852Z",
     "iopub.status.busy": "2021-08-08T00:06:26.778008Z",
     "iopub.status.idle": "2021-08-08T00:06:26.784236Z",
     "shell.execute_reply": "2021-08-08T00:06:26.783694Z",
     "shell.execute_reply.started": "2021-08-07T22:40:48.593729Z"
    },
    "papermill": {
     "duration": 0.11759,
     "end_time": "2021-08-08T00:06:26.784359",
     "exception": false,
     "start_time": "2021-08-08T00:06:26.666769",
     "status": "completed"
    },
    "tags": []
   },
   "outputs": [],
   "source": [
    "num_attribs = x_train.select_dtypes(include=np.number).columns.tolist()\n",
    "cat_attribs = x_train.select_dtypes(include='object').columns.tolist()"
   ]
  },
  {
   "cell_type": "code",
   "execution_count": 21,
   "id": "524ff522",
   "metadata": {
    "execution": {
     "iopub.execute_input": "2021-08-08T00:06:26.995803Z",
     "iopub.status.busy": "2021-08-08T00:06:26.995130Z",
     "iopub.status.idle": "2021-08-08T00:06:26.997501Z",
     "shell.execute_reply": "2021-08-08T00:06:26.997858Z",
     "shell.execute_reply.started": "2021-08-07T22:40:51.207848Z"
    },
    "papermill": {
     "duration": 0.107981,
     "end_time": "2021-08-08T00:06:26.998001",
     "exception": false,
     "start_time": "2021-08-08T00:06:26.890020",
     "status": "completed"
    },
    "tags": []
   },
   "outputs": [],
   "source": [
    "full_pipeline = ColumnTransformer([\n",
    "        (\"num\", num_pipeline, num_attribs),\n",
    "        (\"cat\", cat_pipeline, cat_attribs),\n",
    "    ])"
   ]
  },
  {
   "cell_type": "code",
   "execution_count": 22,
   "id": "be9e8ac5",
   "metadata": {
    "execution": {
     "iopub.execute_input": "2021-08-08T00:06:27.212218Z",
     "iopub.status.busy": "2021-08-08T00:06:27.211370Z",
     "iopub.status.idle": "2021-08-08T00:06:27.290792Z",
     "shell.execute_reply": "2021-08-08T00:06:27.291183Z",
     "shell.execute_reply.started": "2021-08-07T22:40:53.055034Z"
    },
    "papermill": {
     "duration": 0.190077,
     "end_time": "2021-08-08T00:06:27.291315",
     "exception": false,
     "start_time": "2021-08-08T00:06:27.101238",
     "status": "completed"
    },
    "tags": []
   },
   "outputs": [],
   "source": [
    "train_prepared = full_pipeline.fit_transform(x_train)"
   ]
  },
  {
   "cell_type": "code",
   "execution_count": 23,
   "id": "3725764e",
   "metadata": {
    "execution": {
     "iopub.execute_input": "2021-08-08T00:06:27.499396Z",
     "iopub.status.busy": "2021-08-08T00:06:27.498664Z",
     "iopub.status.idle": "2021-08-08T00:06:27.501723Z",
     "shell.execute_reply": "2021-08-08T00:06:27.502114Z",
     "shell.execute_reply.started": "2021-08-07T22:40:54.467098Z"
    },
    "papermill": {
     "duration": 0.10868,
     "end_time": "2021-08-08T00:06:27.502242",
     "exception": false,
     "start_time": "2021-08-08T00:06:27.393562",
     "status": "completed"
    },
    "tags": []
   },
   "outputs": [
    {
     "data": {
      "text/plain": [
       "(1168, 275)"
      ]
     },
     "execution_count": 23,
     "metadata": {},
     "output_type": "execute_result"
    }
   ],
   "source": [
    "train_prepared.shape"
   ]
  },
  {
   "cell_type": "code",
   "execution_count": 24,
   "id": "6e592498",
   "metadata": {
    "execution": {
     "iopub.execute_input": "2021-08-08T00:06:27.711488Z",
     "iopub.status.busy": "2021-08-08T00:06:27.710703Z",
     "iopub.status.idle": "2021-08-08T00:06:27.726458Z",
     "shell.execute_reply": "2021-08-08T00:06:27.726051Z",
     "shell.execute_reply.started": "2021-08-07T22:40:56.982109Z"
    },
    "papermill": {
     "duration": 0.122003,
     "end_time": "2021-08-08T00:06:27.726564",
     "exception": false,
     "start_time": "2021-08-08T00:06:27.604561",
     "status": "completed"
    },
    "tags": []
   },
   "outputs": [],
   "source": [
    "test_prepared = full_pipeline.transform(x_test)"
   ]
  },
  {
   "cell_type": "code",
   "execution_count": 25,
   "id": "d68d01d9",
   "metadata": {
    "execution": {
     "iopub.execute_input": "2021-08-08T00:06:27.939727Z",
     "iopub.status.busy": "2021-08-08T00:06:27.939043Z",
     "iopub.status.idle": "2021-08-08T00:06:27.942026Z",
     "shell.execute_reply": "2021-08-08T00:06:27.942518Z",
     "shell.execute_reply.started": "2021-08-07T22:40:58.103998Z"
    },
    "papermill": {
     "duration": 0.113239,
     "end_time": "2021-08-08T00:06:27.942642",
     "exception": false,
     "start_time": "2021-08-08T00:06:27.829403",
     "status": "completed"
    },
    "tags": []
   },
   "outputs": [
    {
     "data": {
      "text/plain": [
       "<292x275 sparse matrix of type '<class 'numpy.float64'>'\n",
       "\twith 23650 stored elements in Compressed Sparse Row format>"
      ]
     },
     "execution_count": 25,
     "metadata": {},
     "output_type": "execute_result"
    }
   ],
   "source": [
    "test_prepared"
   ]
  },
  {
   "cell_type": "markdown",
   "id": "af65d83f",
   "metadata": {
    "papermill": {
     "duration": 0.102662,
     "end_time": "2021-08-08T00:06:28.147304",
     "exception": false,
     "start_time": "2021-08-08T00:06:28.044642",
     "status": "completed"
    },
    "tags": []
   },
   "source": [
    "## Modeling with hyperparameter tuning"
   ]
  },
  {
   "cell_type": "code",
   "execution_count": 26,
   "id": "862b2a3d",
   "metadata": {
    "execution": {
     "iopub.execute_input": "2021-08-08T00:06:28.359306Z",
     "iopub.status.busy": "2021-08-08T00:06:28.358720Z",
     "iopub.status.idle": "2021-08-08T01:18:03.123541Z",
     "shell.execute_reply": "2021-08-08T01:18:03.124350Z",
     "shell.execute_reply.started": "2021-08-07T22:42:45.725780Z"
    },
    "papermill": {
     "duration": 4294.875146,
     "end_time": "2021-08-08T01:18:03.124540",
     "exception": false,
     "start_time": "2021-08-08T00:06:28.249394",
     "status": "completed"
    },
    "tags": []
   },
   "outputs": [
    {
     "name": "stdout",
     "output_type": "stream",
     "text": [
      "Fitting 5 folds for each of 800 candidates, totalling 4000 fits\n"
     ]
    },
    {
     "name": "stderr",
     "output_type": "stream",
     "text": [
      "[Parallel(n_jobs=-1)]: Using backend LokyBackend with 2 concurrent workers.\n",
      "[Parallel(n_jobs=-1)]: Done  46 tasks      | elapsed:   26.9s\n",
      "[Parallel(n_jobs=-1)]: Done 196 tasks      | elapsed:  1.1min\n",
      "[Parallel(n_jobs=-1)]: Done 446 tasks      | elapsed:  7.6min\n",
      "[Parallel(n_jobs=-1)]: Done 796 tasks      | elapsed: 17.0min\n",
      "[Parallel(n_jobs=-1)]: Done 1726 tasks      | elapsed: 32.7min\n",
      "[Parallel(n_jobs=-1)]: Done 2504 tasks      | elapsed: 44.3min\n",
      "[Parallel(n_jobs=-1)]: Done 3448 tasks      | elapsed: 60.9min\n",
      "[Parallel(n_jobs=-1)]: Done 3997 out of 4000 | elapsed: 71.5min remaining:    3.2s\n",
      "[Parallel(n_jobs=-1)]: Done 4000 out of 4000 | elapsed: 71.5min finished\n",
      "/opt/conda/lib/python3.7/site-packages/lightgbm/engine.py:154: UserWarning: Found `num_iterations` in params. Will use it instead of argument\n",
      "  _log_warning(f\"Found `{alias}` in params. Will use it instead of argument\")\n"
     ]
    }
   ],
   "source": [
    "# Maximum number of levels in tree\n",
    "# Decrease to previne overfit\n",
    "max_depth = [int(x) for x in np.linspace(2, 50, num = 4)]\n",
    "max_depth.append((None, -1))\n",
    "\n",
    "param_grid = {\n",
    "    'num_iterations': [10, 50, 100, 500, 1000],\n",
    "    'learning_rate': [0.0001, 0.001, 0.01, 0.1],\n",
    "    'n_estimators': [int(x) for x in np.linspace(start = 100, stop = 2000, num = 8)],\n",
    "    'max_depth': max_depth\n",
    "}\n",
    "\n",
    "lgbm = lgb.LGBMRegressor(device = 'gpu')\n",
    "grid_search = GridSearchCV(lgbm, param_grid, cv=5, scoring='neg_mean_squared_error', verbose=1, return_train_score=True, n_jobs=-1)\n",
    "grid_search = grid_search.fit(train_prepared, y_train)"
   ]
  },
  {
   "cell_type": "markdown",
   "id": "97b1678a",
   "metadata": {
    "papermill": {
     "duration": 0.105863,
     "end_time": "2021-08-08T01:18:03.339861",
     "exception": false,
     "start_time": "2021-08-08T01:18:03.233998",
     "status": "completed"
    },
    "tags": []
   },
   "source": [
    "## Evaluate the model"
   ]
  },
  {
   "cell_type": "code",
   "execution_count": 27,
   "id": "9e9bd4d4",
   "metadata": {
    "execution": {
     "iopub.execute_input": "2021-08-08T01:18:03.557676Z",
     "iopub.status.busy": "2021-08-08T01:18:03.557022Z",
     "iopub.status.idle": "2021-08-08T01:18:03.559638Z",
     "shell.execute_reply": "2021-08-08T01:18:03.560043Z",
     "shell.execute_reply.started": "2021-08-07T23:56:02.816882Z"
    },
    "papermill": {
     "duration": 0.114457,
     "end_time": "2021-08-08T01:18:03.560188",
     "exception": false,
     "start_time": "2021-08-08T01:18:03.445731",
     "status": "completed"
    },
    "tags": []
   },
   "outputs": [
    {
     "data": {
      "text/plain": [
       "{'learning_rate': 0.01,\n",
       " 'max_depth': 50,\n",
       " 'n_estimators': 2000,\n",
       " 'num_iterations': 500}"
      ]
     },
     "execution_count": 27,
     "metadata": {},
     "output_type": "execute_result"
    }
   ],
   "source": [
    "grid_search.best_params_"
   ]
  },
  {
   "cell_type": "code",
   "execution_count": 28,
   "id": "8e46f11b",
   "metadata": {
    "execution": {
     "iopub.execute_input": "2021-08-08T01:18:03.775667Z",
     "iopub.status.busy": "2021-08-08T01:18:03.775164Z",
     "iopub.status.idle": "2021-08-08T01:18:03.782780Z",
     "shell.execute_reply": "2021-08-08T01:18:03.783165Z",
     "shell.execute_reply.started": "2021-08-07T23:56:24.596210Z"
    },
    "papermill": {
     "duration": 0.11754,
     "end_time": "2021-08-08T01:18:03.783292",
     "exception": false,
     "start_time": "2021-08-08T01:18:03.665752",
     "status": "completed"
    },
    "tags": []
   },
   "outputs": [
    {
     "data": {
      "text/plain": [
       "LGBMRegressor(device='gpu', learning_rate=0.01, max_depth=50, n_estimators=2000,\n",
       "              num_iterations=500)"
      ]
     },
     "execution_count": 28,
     "metadata": {},
     "output_type": "execute_result"
    }
   ],
   "source": [
    "grid_search.best_estimator_"
   ]
  },
  {
   "cell_type": "code",
   "execution_count": 29,
   "id": "990bc69a",
   "metadata": {
    "execution": {
     "iopub.execute_input": "2021-08-08T01:18:04.001150Z",
     "iopub.status.busy": "2021-08-08T01:18:04.000573Z",
     "iopub.status.idle": "2021-08-08T01:18:04.006260Z",
     "shell.execute_reply": "2021-08-08T01:18:04.005819Z",
     "shell.execute_reply.started": "2021-08-07T23:56:26.356174Z"
    },
    "papermill": {
     "duration": 0.115888,
     "end_time": "2021-08-08T01:18:04.006365",
     "exception": false,
     "start_time": "2021-08-08T01:18:03.890477",
     "status": "completed"
    },
    "tags": []
   },
   "outputs": [
    {
     "data": {
      "text/plain": [
       "-892113175.7871478"
      ]
     },
     "execution_count": 29,
     "metadata": {},
     "output_type": "execute_result"
    }
   ],
   "source": [
    "grid_search.best_score_"
   ]
  },
  {
   "cell_type": "code",
   "execution_count": 30,
   "id": "29c43363",
   "metadata": {
    "execution": {
     "iopub.execute_input": "2021-08-08T01:18:04.234721Z",
     "iopub.status.busy": "2021-08-08T01:18:04.233981Z",
     "iopub.status.idle": "2021-08-08T01:18:04.246971Z",
     "shell.execute_reply": "2021-08-08T01:18:04.246562Z",
     "shell.execute_reply.started": "2021-08-07T23:57:07.568724Z"
    },
    "papermill": {
     "duration": 0.133671,
     "end_time": "2021-08-08T01:18:04.247083",
     "exception": false,
     "start_time": "2021-08-08T01:18:04.113412",
     "status": "completed"
    },
    "tags": []
   },
   "outputs": [
    {
     "data": {
      "text/html": [
       "<div>\n",
       "<style scoped>\n",
       "    .dataframe tbody tr th:only-of-type {\n",
       "        vertical-align: middle;\n",
       "    }\n",
       "\n",
       "    .dataframe tbody tr th {\n",
       "        vertical-align: top;\n",
       "    }\n",
       "\n",
       "    .dataframe thead th {\n",
       "        text-align: right;\n",
       "    }\n",
       "</style>\n",
       "<table border=\"1\" class=\"dataframe\">\n",
       "  <thead>\n",
       "    <tr style=\"text-align: right;\">\n",
       "      <th></th>\n",
       "      <th>Feature</th>\n",
       "      <th>Value</th>\n",
       "    </tr>\n",
       "  </thead>\n",
       "  <tbody>\n",
       "    <tr>\n",
       "      <th>39</th>\n",
       "      <td>CentralAir</td>\n",
       "      <td>1235</td>\n",
       "    </tr>\n",
       "    <tr>\n",
       "      <th>40</th>\n",
       "      <td>Electrical</td>\n",
       "      <td>967</td>\n",
       "    </tr>\n",
       "    <tr>\n",
       "      <th>2</th>\n",
       "      <td>LotFrontage</td>\n",
       "      <td>946</td>\n",
       "    </tr>\n",
       "    <tr>\n",
       "      <th>4</th>\n",
       "      <td>Street</td>\n",
       "      <td>645</td>\n",
       "    </tr>\n",
       "    <tr>\n",
       "      <th>26</th>\n",
       "      <td>ExterCond</td>\n",
       "      <td>645</td>\n",
       "    </tr>\n",
       "    <tr>\n",
       "      <th>38</th>\n",
       "      <td>HeatingQC</td>\n",
       "      <td>560</td>\n",
       "    </tr>\n",
       "    <tr>\n",
       "      <th>15</th>\n",
       "      <td>OverallQual</td>\n",
       "      <td>556</td>\n",
       "    </tr>\n",
       "    <tr>\n",
       "      <th>3</th>\n",
       "      <td>LotArea</td>\n",
       "      <td>538</td>\n",
       "    </tr>\n",
       "    <tr>\n",
       "      <th>42</th>\n",
       "      <td>2ndFlrSF</td>\n",
       "      <td>532</td>\n",
       "    </tr>\n",
       "    <tr>\n",
       "      <th>6</th>\n",
       "      <td>LandContour</td>\n",
       "      <td>429</td>\n",
       "    </tr>\n",
       "    <tr>\n",
       "      <th>5</th>\n",
       "      <td>LotShape</td>\n",
       "      <td>396</td>\n",
       "    </tr>\n",
       "    <tr>\n",
       "      <th>28</th>\n",
       "      <td>BsmtQual</td>\n",
       "      <td>377</td>\n",
       "    </tr>\n",
       "    <tr>\n",
       "      <th>12</th>\n",
       "      <td>Condition2</td>\n",
       "      <td>360</td>\n",
       "    </tr>\n",
       "    <tr>\n",
       "      <th>8</th>\n",
       "      <td>LotConfig</td>\n",
       "      <td>349</td>\n",
       "    </tr>\n",
       "    <tr>\n",
       "      <th>24</th>\n",
       "      <td>MasVnrArea</td>\n",
       "      <td>334</td>\n",
       "    </tr>\n",
       "    <tr>\n",
       "      <th>1</th>\n",
       "      <td>MSZoning</td>\n",
       "      <td>315</td>\n",
       "    </tr>\n",
       "    <tr>\n",
       "      <th>10</th>\n",
       "      <td>Neighborhood</td>\n",
       "      <td>290</td>\n",
       "    </tr>\n",
       "    <tr>\n",
       "      <th>11</th>\n",
       "      <td>Condition1</td>\n",
       "      <td>288</td>\n",
       "    </tr>\n",
       "    <tr>\n",
       "      <th>13</th>\n",
       "      <td>BldgType</td>\n",
       "      <td>252</td>\n",
       "    </tr>\n",
       "    <tr>\n",
       "      <th>41</th>\n",
       "      <td>1stFlrSF</td>\n",
       "      <td>244</td>\n",
       "    </tr>\n",
       "  </tbody>\n",
       "</table>\n",
       "</div>"
      ],
      "text/plain": [
       "         Feature  Value\n",
       "39    CentralAir   1235\n",
       "40    Electrical    967\n",
       "2    LotFrontage    946\n",
       "4         Street    645\n",
       "26     ExterCond    645\n",
       "38     HeatingQC    560\n",
       "15   OverallQual    556\n",
       "3        LotArea    538\n",
       "42      2ndFlrSF    532\n",
       "6    LandContour    429\n",
       "5       LotShape    396\n",
       "28      BsmtQual    377\n",
       "12    Condition2    360\n",
       "8      LotConfig    349\n",
       "24    MasVnrArea    334\n",
       "1       MSZoning    315\n",
       "10  Neighborhood    290\n",
       "11    Condition1    288\n",
       "13      BldgType    252\n",
       "41      1stFlrSF    244"
      ]
     },
     "execution_count": 30,
     "metadata": {},
     "output_type": "execute_result"
    }
   ],
   "source": [
    "importances = pd.DataFrame(zip(x_train.columns, grid_search.best_estimator_.feature_importances_), columns=['Feature','Value']).sort_values(by='Value', ascending=False)\n",
    "importances[:20]"
   ]
  },
  {
   "cell_type": "markdown",
   "id": "3a24714c",
   "metadata": {
    "papermill": {
     "duration": 0.109101,
     "end_time": "2021-08-08T01:18:04.467810",
     "exception": false,
     "start_time": "2021-08-08T01:18:04.358709",
     "status": "completed"
    },
    "tags": []
   },
   "source": [
    "## Make submission file"
   ]
  },
  {
   "cell_type": "code",
   "execution_count": 31,
   "id": "92b89e57",
   "metadata": {
    "execution": {
     "iopub.execute_input": "2021-08-08T01:18:04.687059Z",
     "iopub.status.busy": "2021-08-08T01:18:04.686292Z",
     "iopub.status.idle": "2021-08-08T01:18:04.689839Z",
     "shell.execute_reply": "2021-08-08T01:18:04.689379Z",
     "shell.execute_reply.started": "2021-08-07T23:57:45.362599Z"
    },
    "papermill": {
     "duration": 0.115037,
     "end_time": "2021-08-08T01:18:04.689996",
     "exception": false,
     "start_time": "2021-08-08T01:18:04.574959",
     "status": "completed"
    },
    "tags": []
   },
   "outputs": [],
   "source": [
    "test_ID = test['Id'].copy()"
   ]
  },
  {
   "cell_type": "code",
   "execution_count": 32,
   "id": "d8642f83",
   "metadata": {
    "execution": {
     "iopub.execute_input": "2021-08-08T01:18:04.915009Z",
     "iopub.status.busy": "2021-08-08T01:18:04.914224Z",
     "iopub.status.idle": "2021-08-08T01:18:04.929322Z",
     "shell.execute_reply": "2021-08-08T01:18:04.929751Z",
     "shell.execute_reply.started": "2021-08-07T23:57:51.788434Z"
    },
    "papermill": {
     "duration": 0.131709,
     "end_time": "2021-08-08T01:18:04.929878",
     "exception": false,
     "start_time": "2021-08-08T01:18:04.798169",
     "status": "completed"
    },
    "tags": []
   },
   "outputs": [],
   "source": [
    "# Columns with high qty of missings and identity\n",
    "columns = [\"Id\", \"Alley\", \"PoolQC\", \"MiscFeature\", \"Fence\", \"FireplaceQu\"]\n",
    "\n",
    "test.drop(columns, axis = 1, inplace = True)\n",
    "\n",
    "test = add_features(test)"
   ]
  },
  {
   "cell_type": "code",
   "execution_count": 33,
   "id": "888b84bc",
   "metadata": {
    "execution": {
     "iopub.execute_input": "2021-08-08T01:18:05.148515Z",
     "iopub.status.busy": "2021-08-08T01:18:05.147703Z",
     "iopub.status.idle": "2021-08-08T01:18:05.183077Z",
     "shell.execute_reply": "2021-08-08T01:18:05.183462Z",
     "shell.execute_reply.started": "2021-08-07T23:57:53.277569Z"
    },
    "papermill": {
     "duration": 0.147345,
     "end_time": "2021-08-08T01:18:05.183602",
     "exception": false,
     "start_time": "2021-08-08T01:18:05.036257",
     "status": "completed"
    },
    "tags": []
   },
   "outputs": [],
   "source": [
    "final_test = full_pipeline.transform(test)"
   ]
  },
  {
   "cell_type": "code",
   "execution_count": 34,
   "id": "5c2257fb",
   "metadata": {
    "execution": {
     "iopub.execute_input": "2021-08-08T01:18:05.411938Z",
     "iopub.status.busy": "2021-08-08T01:18:05.411008Z",
     "iopub.status.idle": "2021-08-08T01:18:05.446099Z",
     "shell.execute_reply": "2021-08-08T01:18:05.446906Z",
     "shell.execute_reply.started": "2021-08-07T23:57:55.491951Z"
    },
    "papermill": {
     "duration": 0.153524,
     "end_time": "2021-08-08T01:18:05.447071",
     "exception": false,
     "start_time": "2021-08-08T01:18:05.293547",
     "status": "completed"
    },
    "tags": []
   },
   "outputs": [],
   "source": [
    "y_predicted_test = grid_search.predict(final_test)"
   ]
  },
  {
   "cell_type": "code",
   "execution_count": 35,
   "id": "07004ec5",
   "metadata": {
    "execution": {
     "iopub.execute_input": "2021-08-08T01:18:05.667424Z",
     "iopub.status.busy": "2021-08-08T01:18:05.666675Z",
     "iopub.status.idle": "2021-08-08T01:18:05.669428Z",
     "shell.execute_reply": "2021-08-08T01:18:05.669024Z",
     "shell.execute_reply.started": "2021-08-07T23:57:56.737348Z"
    },
    "papermill": {
     "duration": 0.113734,
     "end_time": "2021-08-08T01:18:05.669535",
     "exception": false,
     "start_time": "2021-08-08T01:18:05.555801",
     "status": "completed"
    },
    "tags": []
   },
   "outputs": [],
   "source": [
    "dataset = pd.DataFrame({'Id': test_ID, 'SalePrice': y_predicted_test})"
   ]
  },
  {
   "cell_type": "code",
   "execution_count": 36,
   "id": "017f20b3",
   "metadata": {
    "execution": {
     "iopub.execute_input": "2021-08-08T01:18:05.891567Z",
     "iopub.status.busy": "2021-08-08T01:18:05.890719Z",
     "iopub.status.idle": "2021-08-08T01:18:05.895445Z",
     "shell.execute_reply": "2021-08-08T01:18:05.895053Z",
     "shell.execute_reply.started": "2021-08-07T23:58:00.212332Z"
    },
    "papermill": {
     "duration": 0.119419,
     "end_time": "2021-08-08T01:18:05.895552",
     "exception": false,
     "start_time": "2021-08-08T01:18:05.776133",
     "status": "completed"
    },
    "tags": []
   },
   "outputs": [
    {
     "data": {
      "text/html": [
       "<div>\n",
       "<style scoped>\n",
       "    .dataframe tbody tr th:only-of-type {\n",
       "        vertical-align: middle;\n",
       "    }\n",
       "\n",
       "    .dataframe tbody tr th {\n",
       "        vertical-align: top;\n",
       "    }\n",
       "\n",
       "    .dataframe thead th {\n",
       "        text-align: right;\n",
       "    }\n",
       "</style>\n",
       "<table border=\"1\" class=\"dataframe\">\n",
       "  <thead>\n",
       "    <tr style=\"text-align: right;\">\n",
       "      <th></th>\n",
       "      <th>Id</th>\n",
       "      <th>SalePrice</th>\n",
       "    </tr>\n",
       "  </thead>\n",
       "  <tbody>\n",
       "    <tr>\n",
       "      <th>0</th>\n",
       "      <td>1461</td>\n",
       "      <td>125783.078010</td>\n",
       "    </tr>\n",
       "    <tr>\n",
       "      <th>1</th>\n",
       "      <td>1462</td>\n",
       "      <td>156856.354939</td>\n",
       "    </tr>\n",
       "    <tr>\n",
       "      <th>2</th>\n",
       "      <td>1463</td>\n",
       "      <td>179390.986690</td>\n",
       "    </tr>\n",
       "    <tr>\n",
       "      <th>3</th>\n",
       "      <td>1464</td>\n",
       "      <td>189641.171490</td>\n",
       "    </tr>\n",
       "    <tr>\n",
       "      <th>4</th>\n",
       "      <td>1465</td>\n",
       "      <td>184643.924400</td>\n",
       "    </tr>\n",
       "  </tbody>\n",
       "</table>\n",
       "</div>"
      ],
      "text/plain": [
       "     Id      SalePrice\n",
       "0  1461  125783.078010\n",
       "1  1462  156856.354939\n",
       "2  1463  179390.986690\n",
       "3  1464  189641.171490\n",
       "4  1465  184643.924400"
      ]
     },
     "execution_count": 36,
     "metadata": {},
     "output_type": "execute_result"
    }
   ],
   "source": [
    "dataset.head()"
   ]
  },
  {
   "cell_type": "code",
   "execution_count": 37,
   "id": "7218ad6b",
   "metadata": {
    "execution": {
     "iopub.execute_input": "2021-08-08T01:18:06.158781Z",
     "iopub.status.busy": "2021-08-08T01:18:06.157935Z",
     "iopub.status.idle": "2021-08-08T01:18:06.175607Z",
     "shell.execute_reply": "2021-08-08T01:18:06.176146Z"
    },
    "papermill": {
     "duration": 0.171824,
     "end_time": "2021-08-08T01:18:06.176291",
     "exception": false,
     "start_time": "2021-08-08T01:18:06.004467",
     "status": "completed"
    },
    "tags": []
   },
   "outputs": [],
   "source": [
    "dataset.to_csv(\"LGBMRegressor_output.csv\", sep=\",\", index=False)"
   ]
  }
 ],
 "metadata": {
  "kernelspec": {
   "display_name": "Python 3",
   "language": "python",
   "name": "python3"
  },
  "language_info": {
   "codemirror_mode": {
    "name": "ipython",
    "version": 3
   },
   "file_extension": ".py",
   "mimetype": "text/x-python",
   "name": "python",
   "nbconvert_exporter": "python",
   "pygments_lexer": "ipython3",
   "version": "3.7.10"
  },
  "papermill": {
   "default_parameters": {},
   "duration": 4631.236362,
   "end_time": "2021-08-08T01:18:08.185157",
   "environment_variables": {},
   "exception": null,
   "input_path": "__notebook__.ipynb",
   "output_path": "__notebook__.ipynb",
   "parameters": {},
   "start_time": "2021-08-08T00:00:56.948795",
   "version": "2.3.3"
  }
 },
 "nbformat": 4,
 "nbformat_minor": 5
}
